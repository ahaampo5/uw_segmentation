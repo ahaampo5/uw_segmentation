{
 "cells": [
  {
   "cell_type": "markdown",
   "id": "dec950bb",
   "metadata": {
    "papermill": {
     "duration": 0.027414,
     "end_time": "2022-05-01T22:47:59.760785",
     "exception": false,
     "start_time": "2022-05-01T22:47:59.733371",
     "status": "completed"
    },
    "tags": []
   },
   "source": [
    "# Import Libraries"
   ]
  },
  {
   "cell_type": "code",
   "execution_count": 59,
   "id": "06495543",
   "metadata": {
    "_cell_guid": "b1076dfc-b9ad-4769-8c92-a6c4dae69d19",
    "_uuid": "8f2839f25d086af736a60e9eeb907d3b93b6e0e5",
    "execution": {
     "iopub.execute_input": "2022-07-09T00:30:12.079811Z",
     "iopub.status.busy": "2022-07-09T00:30:12.079298Z",
     "iopub.status.idle": "2022-07-09T00:30:12.090641Z",
     "shell.execute_reply": "2022-07-09T00:30:12.089879Z",
     "shell.execute_reply.started": "2022-07-09T00:30:12.079764Z"
    },
    "papermill": {
     "duration": 4.497649,
     "end_time": "2022-05-01T22:48:04.285697",
     "exception": false,
     "start_time": "2022-05-01T22:47:59.788048",
     "status": "completed"
    },
    "tags": []
   },
   "outputs": [],
   "source": [
    "import numpy as np\n",
    "import pandas as pd\n",
    "pd.options.plotting.backend = \"plotly\"\n",
    "import random\n",
    "from glob import glob\n",
    "import os, shutil\n",
    "from tqdm.notebook import tqdm\n",
    "tqdm.pandas()\n",
    "import time\n",
    "import copy\n",
    "import joblib\n",
    "import gc\n",
    "from IPython import display as ipd\n",
    "from joblib import Parallel, delayed\n",
    "\n",
    "# visualization\n",
    "import cv2\n",
    "import matplotlib.pyplot as plt\n",
    "from matplotlib.patches import Rectangle\n",
    "from monai.transforms import CropForeground\n",
    "# import tensorflow as tf"
   ]
  },
  {
   "cell_type": "markdown",
   "id": "823a556a",
   "metadata": {
    "papermill": {
     "duration": 0.026904,
     "end_time": "2022-05-01T22:48:04.339868",
     "exception": false,
     "start_time": "2022-05-01T22:48:04.312964",
     "status": "completed"
    },
    "tags": []
   },
   "source": [
    "# Params"
   ]
  },
  {
   "cell_type": "code",
   "execution_count": 60,
   "id": "e17d6800",
   "metadata": {
    "execution": {
     "iopub.execute_input": "2022-07-09T00:30:14.149325Z",
     "iopub.status.busy": "2022-07-09T00:30:14.148474Z",
     "iopub.status.idle": "2022-07-09T00:30:14.154756Z",
     "shell.execute_reply": "2022-07-09T00:30:14.153764Z",
     "shell.execute_reply.started": "2022-07-09T00:30:14.149276Z"
    },
    "papermill": {
     "duration": 0.03267,
     "end_time": "2022-05-01T22:48:04.400062",
     "exception": false,
     "start_time": "2022-05-01T22:48:04.367392",
     "status": "completed"
    },
    "tags": []
   },
   "outputs": [],
   "source": [
    "IMG_SIZE = [384, 384]\n",
    "CHANGE_MODE = 'pad' # 'pad' : 패딩으로 이미지 생성, 'resize' : 그냥 리사이즈 # 'no'\n",
    "INTER = cv2.INTER_NEAREST # cv2.INTER_CUBIC. # cv2.INTER_NEAREST # cv2.INTER_CUBIC # , cv2.INTER_LINEAR, \n",
    "MIDDLE_LABEL =True # False# True\n",
    "CROP = False"
   ]
  },
  {
   "cell_type": "markdown",
   "id": "827e52f9",
   "metadata": {
    "papermill": {
     "duration": 0.026581,
     "end_time": "2022-05-01T22:48:04.453692",
     "exception": false,
     "start_time": "2022-05-01T22:48:04.427111",
     "status": "completed"
    },
    "tags": []
   },
   "source": [
    "# Utilities"
   ]
  },
  {
   "cell_type": "markdown",
   "id": "fef2bb52",
   "metadata": {
    "papermill": {
     "duration": 0.026534,
     "end_time": "2022-05-01T22:48:04.506932",
     "exception": false,
     "start_time": "2022-05-01T22:48:04.480398",
     "status": "completed"
    },
    "tags": []
   },
   "source": [
    "## Metadata"
   ]
  },
  {
   "cell_type": "markdown",
   "id": "ab67df10",
   "metadata": {
    "papermill": {
     "duration": 0.028256,
     "end_time": "2022-05-01T22:48:04.561837",
     "exception": false,
     "start_time": "2022-05-01T22:48:04.533581",
     "status": "completed"
    },
    "tags": []
   },
   "source": [
    "## Image"
   ]
  },
  {
   "cell_type": "code",
   "execution_count": 61,
   "id": "dcc98466",
   "metadata": {
    "execution": {
     "iopub.execute_input": "2022-07-09T00:30:16.602414Z",
     "iopub.status.busy": "2022-07-09T00:30:16.601789Z",
     "iopub.status.idle": "2022-07-09T00:30:16.627047Z",
     "shell.execute_reply": "2022-07-09T00:30:16.626246Z",
     "shell.execute_reply.started": "2022-07-09T00:30:16.602372Z"
    },
    "papermill": {
     "duration": 0.04679,
     "end_time": "2022-05-01T22:48:04.635588",
     "exception": false,
     "start_time": "2022-05-01T22:48:04.588798",
     "status": "completed"
    },
    "tags": []
   },
   "outputs": [],
   "source": [
    "def load_img(path, size=IMG_SIZE):\n",
    "    img = cv2.imread(path, cv2.IMREAD_UNCHANGED)\n",
    "    shape0 = np.array(img.shape[:2])\n",
    "    resize = np.array(size)\n",
    "    if np.any(shape0 != resize):\n",
    "        if CHANGE_MODE == 'pad':\n",
    "            diff = resize - shape0\n",
    "            pad0 = diff[0]\n",
    "            pad1 = diff[1]\n",
    "            pady = [pad0//2, pad0//2 + pad0%2]\n",
    "            padx = [pad1//2, pad1//2 + pad1%2]\n",
    "            img = np.pad(img, [pady, padx])\n",
    "            img = img.reshape((*resize, ))\n",
    "        elif CHANGE_MODE == 'no':\n",
    "            pass\n",
    "        else:\n",
    "            if CROP == False:\n",
    "                img = cv2.resize(img, resize, interpolation=INTER)\n",
    "            else:\n",
    "                cr = CropForeground(lambda x:x>40)\n",
    "                img_ = img.transpose(2,0,1)\n",
    "                start_, end_ = cr.compute_bounding_box(img_)\n",
    "                img = img[start_[0]:end_[0], start_[1]:end_[1], :]\n",
    "                img = cv2.resize(img, resize, interpolation=INTER)\n",
    "                return img, start_, end_\n",
    "#     img = np.tile(img[...,None], [1, 1, 3]) # gray to rgb\n",
    "#     img = img.astype('float32') # original is uint16\n",
    "#     mx = np.max(img)\n",
    "#     if mx:\n",
    "#         img/=mx # scale image to [0, 1]\n",
    "    return img, [], []\n",
    "\n",
    "def load_msk(path, start_, end_, size=IMG_SIZE):\n",
    "    msk = np.load(path)\n",
    "#     msk = msk.astype('float32')\n",
    "#     msk/=255.0\n",
    "#     msk = cv2.resize(msk, dsize=size, interpolation=cv2.INTER_NEAREST)\n",
    "    shape0 = np.array(msk.shape[:2])\n",
    "    resize = np.array(size)\n",
    "    if np.any(shape0!=resize):\n",
    "        if CHANGE_MODE == 'pad':\n",
    "            diff = resize - shape0\n",
    "            pad0 = diff[0]\n",
    "            pad1 = diff[1]\n",
    "            pady = [pad0//2, pad0//2 + pad0%2]\n",
    "            padx = [pad1//2, pad1//2 + pad1%2]\n",
    "            msk = np.pad(msk, [pady, padx, [0,0]])\n",
    "            msk = msk.reshape((*resize, 3))\n",
    "        elif CHANGE_MODE == 'no':\n",
    "            pass\n",
    "        else:\n",
    "            if CROP == False:\n",
    "                msk = cv2.resize(msk, size, interpolation=INTER)\n",
    "            else:\n",
    "                msk = msk[start_[0]:end_[0], start_[1]:end_[1], :]\n",
    "                msk = cv2.resize(msk, size, interpolation=INTER)\n",
    "    return msk\n",
    "\n",
    "def show_img(img, mask=None):\n",
    "    plt.imshow(img, cmap='bone')\n",
    "    \n",
    "    if mask is not None:\n",
    "        # plt.imshow(np.ma.masked_where(mask!=1, mask), alpha=0.5, cmap='autumn')\n",
    "        plt.imshow(mask, alpha=0.5)\n",
    "        handles = [Rectangle((0,0),1,1, color=_c) for _c in [(0.667,0.0,0.0), (0.0,0.667,0.0), (0.0,0.0,0.667)]]\n",
    "        labels = [ \"Large Bowel\", \"Small Bowel\", \"Stomach\"]\n",
    "        plt.legend(handles,labels)\n",
    "    plt.axis('off')\n",
    "    \n",
    "def load_imgs(img_paths, size=IMG_SIZE):\n",
    "    imgs = np.zeros((*size, len(img_paths)), dtype=np.uint16)\n",
    "    for i, img_path in enumerate(img_paths):\n",
    "        img, start_, end_ = load_img(img_path, size=size)\n",
    "        imgs[..., i]+=img\n",
    "        if i == 1:\n",
    "            start__, end__ = copy.deepcopy(start_), copy.deepcopy(end_)\n",
    "            \n",
    "    return imgs, start__, end__"
   ]
  },
  {
   "cell_type": "markdown",
   "id": "03fa979f",
   "metadata": {
    "papermill": {
     "duration": 0.026817,
     "end_time": "2022-05-01T22:48:04.689823",
     "exception": false,
     "start_time": "2022-05-01T22:48:04.663006",
     "status": "completed"
    },
    "tags": []
   },
   "source": [
    "# Meta Data"
   ]
  },
  {
   "cell_type": "code",
   "execution_count": 62,
   "id": "5bda4878",
   "metadata": {
    "execution": {
     "iopub.execute_input": "2022-07-09T00:30:18.543814Z",
     "iopub.status.busy": "2022-07-09T00:30:18.543434Z",
     "iopub.status.idle": "2022-07-09T00:30:21.400463Z",
     "shell.execute_reply": "2022-07-09T00:30:21.399691Z",
     "shell.execute_reply.started": "2022-07-09T00:30:18.543773Z"
    },
    "papermill": {
     "duration": 2.291203,
     "end_time": "2022-05-01T22:48:07.008082",
     "exception": false,
     "start_time": "2022-05-01T22:48:04.716879",
     "status": "completed"
    },
    "tags": []
   },
   "outputs": [
    {
     "name": "stderr",
     "output_type": "stream",
     "text": [
      "The default value of regex will change from True to False in a future version.\n"
     ]
    },
    {
     "data": {
      "text/html": [
       "<div>\n",
       "<style scoped>\n",
       "    .dataframe tbody tr th:only-of-type {\n",
       "        vertical-align: middle;\n",
       "    }\n",
       "\n",
       "    .dataframe tbody tr th {\n",
       "        vertical-align: top;\n",
       "    }\n",
       "\n",
       "    .dataframe thead th {\n",
       "        text-align: right;\n",
       "    }\n",
       "</style>\n",
       "<table border=\"1\" class=\"dataframe\">\n",
       "  <thead>\n",
       "    <tr style=\"text-align: right;\">\n",
       "      <th></th>\n",
       "      <th>id</th>\n",
       "      <th>case</th>\n",
       "      <th>day</th>\n",
       "      <th>slice</th>\n",
       "      <th>image_path</th>\n",
       "      <th>height</th>\n",
       "      <th>width</th>\n",
       "      <th>mask_path</th>\n",
       "      <th>segmentation</th>\n",
       "      <th>rle_len</th>\n",
       "      <th>empty</th>\n",
       "    </tr>\n",
       "  </thead>\n",
       "  <tbody>\n",
       "    <tr>\n",
       "      <th>0</th>\n",
       "      <td>case123_day20_slice_0001</td>\n",
       "      <td>123</td>\n",
       "      <td>20</td>\n",
       "      <td>1</td>\n",
       "      <td>../data/train/case123/case123_day20/scans/slic...</td>\n",
       "      <td>266</td>\n",
       "      <td>266</td>\n",
       "      <td>../data/np/train/case123/case123_day20/scans/s...</td>\n",
       "      <td>[, , ]</td>\n",
       "      <td>0</td>\n",
       "      <td>True</td>\n",
       "    </tr>\n",
       "    <tr>\n",
       "      <th>1</th>\n",
       "      <td>case123_day20_slice_0002</td>\n",
       "      <td>123</td>\n",
       "      <td>20</td>\n",
       "      <td>2</td>\n",
       "      <td>../data/train/case123/case123_day20/scans/slic...</td>\n",
       "      <td>266</td>\n",
       "      <td>266</td>\n",
       "      <td>../data/np/train/case123/case123_day20/scans/s...</td>\n",
       "      <td>[, , ]</td>\n",
       "      <td>0</td>\n",
       "      <td>True</td>\n",
       "    </tr>\n",
       "    <tr>\n",
       "      <th>2</th>\n",
       "      <td>case123_day20_slice_0003</td>\n",
       "      <td>123</td>\n",
       "      <td>20</td>\n",
       "      <td>3</td>\n",
       "      <td>../data/train/case123/case123_day20/scans/slic...</td>\n",
       "      <td>266</td>\n",
       "      <td>266</td>\n",
       "      <td>../data/np/train/case123/case123_day20/scans/s...</td>\n",
       "      <td>[, , ]</td>\n",
       "      <td>0</td>\n",
       "      <td>True</td>\n",
       "    </tr>\n",
       "    <tr>\n",
       "      <th>3</th>\n",
       "      <td>case123_day20_slice_0004</td>\n",
       "      <td>123</td>\n",
       "      <td>20</td>\n",
       "      <td>4</td>\n",
       "      <td>../data/train/case123/case123_day20/scans/slic...</td>\n",
       "      <td>266</td>\n",
       "      <td>266</td>\n",
       "      <td>../data/np/train/case123/case123_day20/scans/s...</td>\n",
       "      <td>[, , ]</td>\n",
       "      <td>0</td>\n",
       "      <td>True</td>\n",
       "    </tr>\n",
       "    <tr>\n",
       "      <th>4</th>\n",
       "      <td>case123_day20_slice_0005</td>\n",
       "      <td>123</td>\n",
       "      <td>20</td>\n",
       "      <td>5</td>\n",
       "      <td>../data/train/case123/case123_day20/scans/slic...</td>\n",
       "      <td>266</td>\n",
       "      <td>266</td>\n",
       "      <td>../data/np/train/case123/case123_day20/scans/s...</td>\n",
       "      <td>[, , ]</td>\n",
       "      <td>0</td>\n",
       "      <td>True</td>\n",
       "    </tr>\n",
       "  </tbody>\n",
       "</table>\n",
       "</div>"
      ],
      "text/plain": [
       "                         id  case  day  slice  \\\n",
       "0  case123_day20_slice_0001   123   20      1   \n",
       "1  case123_day20_slice_0002   123   20      2   \n",
       "2  case123_day20_slice_0003   123   20      3   \n",
       "3  case123_day20_slice_0004   123   20      4   \n",
       "4  case123_day20_slice_0005   123   20      5   \n",
       "\n",
       "                                          image_path  height  width  \\\n",
       "0  ../data/train/case123/case123_day20/scans/slic...     266    266   \n",
       "1  ../data/train/case123/case123_day20/scans/slic...     266    266   \n",
       "2  ../data/train/case123/case123_day20/scans/slic...     266    266   \n",
       "3  ../data/train/case123/case123_day20/scans/slic...     266    266   \n",
       "4  ../data/train/case123/case123_day20/scans/slic...     266    266   \n",
       "\n",
       "                                           mask_path segmentation  rle_len  \\\n",
       "0  ../data/np/train/case123/case123_day20/scans/s...       [, , ]        0   \n",
       "1  ../data/np/train/case123/case123_day20/scans/s...       [, , ]        0   \n",
       "2  ../data/np/train/case123/case123_day20/scans/s...       [, , ]        0   \n",
       "3  ../data/np/train/case123/case123_day20/scans/s...       [, , ]        0   \n",
       "4  ../data/np/train/case123/case123_day20/scans/s...       [, , ]        0   \n",
       "\n",
       "   empty  \n",
       "0   True  \n",
       "1   True  \n",
       "2   True  \n",
       "3   True  \n",
       "4   True  "
      ]
     },
     "execution_count": 62,
     "metadata": {},
     "output_type": "execute_result"
    }
   ],
   "source": [
    "df = pd.read_csv('./train_.csv')\n",
    "df['segmentation'] = df.segmentation.fillna('')\n",
    "df['rle_len'] = df.segmentation.map(len) # length of each rle mask\n",
    "df['mask_path'] = df.mask_path.str.replace('/png/','/np').str.replace('.png','.npy')\n",
    "# df['mask_path'] = df.mask_path.str.replace('../data/seg_data/', f'/tmp/')\n",
    "\n",
    "df2 = df.groupby(['id'])['segmentation'].agg(list).to_frame().reset_index() # rle list of each id\n",
    "df2 = df2.merge(df.groupby(['id'])['rle_len'].agg(sum).to_frame().reset_index()) # total length of all rles of each id\n",
    "\n",
    "df = df.drop(columns=['segmentation', 'class', 'rle_len'])\n",
    "df = df.groupby(['id']).head(1).reset_index(drop=True)\n",
    "df = df.merge(df2, on=['id'])\n",
    "df['empty'] = (df.rle_len==0) # empty masks\n",
    "df.head()"
   ]
  },
  {
   "cell_type": "markdown",
   "id": "937ef04f",
   "metadata": {
    "papermill": {
     "duration": 0.028968,
     "end_time": "2022-05-01T22:48:07.066828",
     "exception": false,
     "start_time": "2022-05-01T22:48:07.037860",
     "status": "completed"
    },
    "tags": []
   },
   "source": [
    "# 2.5D Images"
   ]
  },
  {
   "cell_type": "code",
   "execution_count": 63,
   "id": "c19640f4",
   "metadata": {
    "execution": {
     "iopub.execute_input": "2022-07-09T00:30:22.166034Z",
     "iopub.status.busy": "2022-07-09T00:30:22.165676Z",
     "iopub.status.idle": "2022-07-09T00:30:22.274577Z",
     "shell.execute_reply": "2022-07-09T00:30:22.273852Z",
     "shell.execute_reply.started": "2022-07-09T00:30:22.165998Z"
    },
    "papermill": {
     "duration": 0.085323,
     "end_time": "2022-05-01T22:48:07.180993",
     "exception": false,
     "start_time": "2022-05-01T22:48:07.095670",
     "status": "completed"
    },
    "tags": []
   },
   "outputs": [
    {
     "data": {
      "text/plain": [
       "['../data/train/case123/case123_day20/scans/slice_0001_266_266_1.50_1.50.png',\n",
       " '../data/train/case123/case123_day20/scans/slice_0001_266_266_1.50_1.50.png',\n",
       " '../data/train/case123/case123_day20/scans/slice_0002_266_266_1.50_1.50.png']"
      ]
     },
     "execution_count": 63,
     "metadata": {},
     "output_type": "execute_result"
    }
   ],
   "source": [
    "channels=3\n",
    "stride=1\n",
    "if MIDDLE_LABEL:\n",
    "    for idx, i in enumerate(range(-1, 2, 1)): # range(channels):\n",
    "        if idx <= 0:\n",
    "            df[f'image_path_{idx:02}'] = df.groupby(['case','day'])['image_path'].shift(-i*stride).fillna(method=\"bfill\") # 맨 뒤이 nan\n",
    "        else:\n",
    "            df[f'image_path_{idx:02}'] = df.groupby(['case','day'])['image_path'].shift(-i*stride).fillna(method=\"ffill\")\n",
    "else:\n",
    "    for idx, i in enumerate(range(channels)): # range(channels):\n",
    "        df[f'image_path_{idx:02}'] = df.groupby(['case','day'])['image_path'].shift(-i*stride).fillna(method=\"ffill\")\n",
    "df['image_paths'] = df[[f'image_path_{i:02d}' for i in range(channels)]].values.tolist()\n",
    "df.image_paths[0]"
   ]
  },
  {
   "cell_type": "code",
   "execution_count": 64,
   "id": "b98a83dd-be85-4bdd-a654-abf41a996db6",
   "metadata": {
    "execution": {
     "iopub.execute_input": "2022-07-09T00:30:23.973182Z",
     "iopub.status.busy": "2022-07-09T00:30:23.972042Z",
     "iopub.status.idle": "2022-07-09T00:30:23.996227Z",
     "shell.execute_reply": "2022-07-09T00:30:23.995494Z",
     "shell.execute_reply.started": "2022-07-09T00:30:23.973135Z"
    },
    "tags": []
   },
   "outputs": [
    {
     "data": {
      "text/html": [
       "<div>\n",
       "<style scoped>\n",
       "    .dataframe tbody tr th:only-of-type {\n",
       "        vertical-align: middle;\n",
       "    }\n",
       "\n",
       "    .dataframe tbody tr th {\n",
       "        vertical-align: top;\n",
       "    }\n",
       "\n",
       "    .dataframe thead th {\n",
       "        text-align: right;\n",
       "    }\n",
       "</style>\n",
       "<table border=\"1\" class=\"dataframe\">\n",
       "  <thead>\n",
       "    <tr style=\"text-align: right;\">\n",
       "      <th></th>\n",
       "      <th>id</th>\n",
       "      <th>case</th>\n",
       "      <th>day</th>\n",
       "      <th>slice</th>\n",
       "      <th>image_path</th>\n",
       "      <th>height</th>\n",
       "      <th>width</th>\n",
       "      <th>mask_path</th>\n",
       "      <th>segmentation</th>\n",
       "      <th>rle_len</th>\n",
       "      <th>empty</th>\n",
       "      <th>image_path_00</th>\n",
       "      <th>image_path_01</th>\n",
       "      <th>image_path_02</th>\n",
       "      <th>image_paths</th>\n",
       "    </tr>\n",
       "  </thead>\n",
       "  <tbody>\n",
       "    <tr>\n",
       "      <th>0</th>\n",
       "      <td>case123_day20_slice_0001</td>\n",
       "      <td>123</td>\n",
       "      <td>20</td>\n",
       "      <td>1</td>\n",
       "      <td>../data/train/case123/case123_day20/scans/slic...</td>\n",
       "      <td>266</td>\n",
       "      <td>266</td>\n",
       "      <td>../data/np/train/case123/case123_day20/scans/s...</td>\n",
       "      <td>[, , ]</td>\n",
       "      <td>0</td>\n",
       "      <td>True</td>\n",
       "      <td>../data/train/case123/case123_day20/scans/slic...</td>\n",
       "      <td>../data/train/case123/case123_day20/scans/slic...</td>\n",
       "      <td>../data/train/case123/case123_day20/scans/slic...</td>\n",
       "      <td>[../data/train/case123/case123_day20/scans/sli...</td>\n",
       "    </tr>\n",
       "    <tr>\n",
       "      <th>1</th>\n",
       "      <td>case123_day20_slice_0002</td>\n",
       "      <td>123</td>\n",
       "      <td>20</td>\n",
       "      <td>2</td>\n",
       "      <td>../data/train/case123/case123_day20/scans/slic...</td>\n",
       "      <td>266</td>\n",
       "      <td>266</td>\n",
       "      <td>../data/np/train/case123/case123_day20/scans/s...</td>\n",
       "      <td>[, , ]</td>\n",
       "      <td>0</td>\n",
       "      <td>True</td>\n",
       "      <td>../data/train/case123/case123_day20/scans/slic...</td>\n",
       "      <td>../data/train/case123/case123_day20/scans/slic...</td>\n",
       "      <td>../data/train/case123/case123_day20/scans/slic...</td>\n",
       "      <td>[../data/train/case123/case123_day20/scans/sli...</td>\n",
       "    </tr>\n",
       "    <tr>\n",
       "      <th>2</th>\n",
       "      <td>case123_day20_slice_0003</td>\n",
       "      <td>123</td>\n",
       "      <td>20</td>\n",
       "      <td>3</td>\n",
       "      <td>../data/train/case123/case123_day20/scans/slic...</td>\n",
       "      <td>266</td>\n",
       "      <td>266</td>\n",
       "      <td>../data/np/train/case123/case123_day20/scans/s...</td>\n",
       "      <td>[, , ]</td>\n",
       "      <td>0</td>\n",
       "      <td>True</td>\n",
       "      <td>../data/train/case123/case123_day20/scans/slic...</td>\n",
       "      <td>../data/train/case123/case123_day20/scans/slic...</td>\n",
       "      <td>../data/train/case123/case123_day20/scans/slic...</td>\n",
       "      <td>[../data/train/case123/case123_day20/scans/sli...</td>\n",
       "    </tr>\n",
       "    <tr>\n",
       "      <th>3</th>\n",
       "      <td>case123_day20_slice_0004</td>\n",
       "      <td>123</td>\n",
       "      <td>20</td>\n",
       "      <td>4</td>\n",
       "      <td>../data/train/case123/case123_day20/scans/slic...</td>\n",
       "      <td>266</td>\n",
       "      <td>266</td>\n",
       "      <td>../data/np/train/case123/case123_day20/scans/s...</td>\n",
       "      <td>[, , ]</td>\n",
       "      <td>0</td>\n",
       "      <td>True</td>\n",
       "      <td>../data/train/case123/case123_day20/scans/slic...</td>\n",
       "      <td>../data/train/case123/case123_day20/scans/slic...</td>\n",
       "      <td>../data/train/case123/case123_day20/scans/slic...</td>\n",
       "      <td>[../data/train/case123/case123_day20/scans/sli...</td>\n",
       "    </tr>\n",
       "    <tr>\n",
       "      <th>4</th>\n",
       "      <td>case123_day20_slice_0005</td>\n",
       "      <td>123</td>\n",
       "      <td>20</td>\n",
       "      <td>5</td>\n",
       "      <td>../data/train/case123/case123_day20/scans/slic...</td>\n",
       "      <td>266</td>\n",
       "      <td>266</td>\n",
       "      <td>../data/np/train/case123/case123_day20/scans/s...</td>\n",
       "      <td>[, , ]</td>\n",
       "      <td>0</td>\n",
       "      <td>True</td>\n",
       "      <td>../data/train/case123/case123_day20/scans/slic...</td>\n",
       "      <td>../data/train/case123/case123_day20/scans/slic...</td>\n",
       "      <td>../data/train/case123/case123_day20/scans/slic...</td>\n",
       "      <td>[../data/train/case123/case123_day20/scans/sli...</td>\n",
       "    </tr>\n",
       "  </tbody>\n",
       "</table>\n",
       "</div>"
      ],
      "text/plain": [
       "                         id  case  day  slice  \\\n",
       "0  case123_day20_slice_0001   123   20      1   \n",
       "1  case123_day20_slice_0002   123   20      2   \n",
       "2  case123_day20_slice_0003   123   20      3   \n",
       "3  case123_day20_slice_0004   123   20      4   \n",
       "4  case123_day20_slice_0005   123   20      5   \n",
       "\n",
       "                                          image_path  height  width  \\\n",
       "0  ../data/train/case123/case123_day20/scans/slic...     266    266   \n",
       "1  ../data/train/case123/case123_day20/scans/slic...     266    266   \n",
       "2  ../data/train/case123/case123_day20/scans/slic...     266    266   \n",
       "3  ../data/train/case123/case123_day20/scans/slic...     266    266   \n",
       "4  ../data/train/case123/case123_day20/scans/slic...     266    266   \n",
       "\n",
       "                                           mask_path segmentation  rle_len  \\\n",
       "0  ../data/np/train/case123/case123_day20/scans/s...       [, , ]        0   \n",
       "1  ../data/np/train/case123/case123_day20/scans/s...       [, , ]        0   \n",
       "2  ../data/np/train/case123/case123_day20/scans/s...       [, , ]        0   \n",
       "3  ../data/np/train/case123/case123_day20/scans/s...       [, , ]        0   \n",
       "4  ../data/np/train/case123/case123_day20/scans/s...       [, , ]        0   \n",
       "\n",
       "   empty                                      image_path_00  \\\n",
       "0   True  ../data/train/case123/case123_day20/scans/slic...   \n",
       "1   True  ../data/train/case123/case123_day20/scans/slic...   \n",
       "2   True  ../data/train/case123/case123_day20/scans/slic...   \n",
       "3   True  ../data/train/case123/case123_day20/scans/slic...   \n",
       "4   True  ../data/train/case123/case123_day20/scans/slic...   \n",
       "\n",
       "                                       image_path_01  \\\n",
       "0  ../data/train/case123/case123_day20/scans/slic...   \n",
       "1  ../data/train/case123/case123_day20/scans/slic...   \n",
       "2  ../data/train/case123/case123_day20/scans/slic...   \n",
       "3  ../data/train/case123/case123_day20/scans/slic...   \n",
       "4  ../data/train/case123/case123_day20/scans/slic...   \n",
       "\n",
       "                                       image_path_02  \\\n",
       "0  ../data/train/case123/case123_day20/scans/slic...   \n",
       "1  ../data/train/case123/case123_day20/scans/slic...   \n",
       "2  ../data/train/case123/case123_day20/scans/slic...   \n",
       "3  ../data/train/case123/case123_day20/scans/slic...   \n",
       "4  ../data/train/case123/case123_day20/scans/slic...   \n",
       "\n",
       "                                         image_paths  \n",
       "0  [../data/train/case123/case123_day20/scans/sli...  \n",
       "1  [../data/train/case123/case123_day20/scans/sli...  \n",
       "2  [../data/train/case123/case123_day20/scans/sli...  \n",
       "3  [../data/train/case123/case123_day20/scans/sli...  \n",
       "4  [../data/train/case123/case123_day20/scans/sli...  "
      ]
     },
     "execution_count": 64,
     "metadata": {},
     "output_type": "execute_result"
    }
   ],
   "source": [
    "df.head()"
   ]
  },
  {
   "cell_type": "markdown",
   "id": "66ada17c",
   "metadata": {
    "papermill": {
     "duration": 0.028861,
     "end_time": "2022-05-01T22:48:07.239489",
     "exception": false,
     "start_time": "2022-05-01T22:48:07.210628",
     "status": "completed"
    },
    "tags": []
   },
   "source": [
    "# Check Mask"
   ]
  },
  {
   "cell_type": "code",
   "execution_count": 20,
   "id": "283c013f",
   "metadata": {
    "execution": {
     "iopub.execute_input": "2022-07-05T13:46:12.205010Z",
     "iopub.status.busy": "2022-07-05T13:46:12.203982Z",
     "iopub.status.idle": "2022-07-05T13:46:12.332895Z",
     "shell.execute_reply": "2022-07-05T13:46:12.331945Z",
     "shell.execute_reply.started": "2022-07-05T13:46:12.204964Z"
    },
    "papermill": {
     "duration": 1.209079,
     "end_time": "2022-05-01T22:48:08.477721",
     "exception": false,
     "start_time": "2022-05-01T22:48:07.268642",
     "status": "completed"
    },
    "tags": []
   },
   "outputs": [
    {
     "ename": "TypeError",
     "evalue": "load_msk() missing 2 required positional arguments: 'start_' and 'end_'",
     "output_type": "error",
     "traceback": [
      "\u001b[0;31m---------------------------------------------------------------------------\u001b[0m",
      "\u001b[0;31mTypeError\u001b[0m                                 Traceback (most recent call last)",
      "Input \u001b[0;32mIn [20]\u001b[0m, in \u001b[0;36m<cell line: 3>\u001b[0;34m()\u001b[0m\n\u001b[1;32m      4\u001b[0m idf \u001b[38;5;241m=\u001b[39m df[df[\u001b[38;5;124m'\u001b[39m\u001b[38;5;124mid\u001b[39m\u001b[38;5;124m'\u001b[39m]\u001b[38;5;241m==\u001b[39mid_]\n\u001b[1;32m      5\u001b[0m img \u001b[38;5;241m=\u001b[39m load_img(idf\u001b[38;5;241m.\u001b[39mimage_path\u001b[38;5;241m.\u001b[39miloc[\u001b[38;5;241m0\u001b[39m])\n\u001b[0;32m----> 6\u001b[0m mask \u001b[38;5;241m=\u001b[39m \u001b[43mload_msk\u001b[49m\u001b[43m(\u001b[49m\u001b[43midf\u001b[49m\u001b[38;5;241;43m.\u001b[39;49m\u001b[43mmask_path\u001b[49m\u001b[38;5;241;43m.\u001b[39;49m\u001b[43miloc\u001b[49m\u001b[43m[\u001b[49m\u001b[38;5;241;43m0\u001b[39;49m\u001b[43m]\u001b[49m\u001b[43m)\u001b[49m\n\u001b[1;32m      7\u001b[0m plt\u001b[38;5;241m.\u001b[39msubplot(row, col, i\u001b[38;5;241m+\u001b[39m\u001b[38;5;241m1\u001b[39m)\n\u001b[1;32m      8\u001b[0m i\u001b[38;5;241m+\u001b[39m\u001b[38;5;241m=\u001b[39m\u001b[38;5;241m1\u001b[39m\n",
      "\u001b[0;31mTypeError\u001b[0m: load_msk() missing 2 required positional arguments: 'start_' and 'end_'"
     ]
    },
    {
     "data": {
      "text/plain": [
       "<Figure size 1440x360 with 0 Axes>"
      ]
     },
     "metadata": {},
     "output_type": "display_data"
    }
   ],
   "source": [
    "row=1; col=4\n",
    "plt.figure(figsize=(5*col,5*row))\n",
    "for i, id_ in enumerate(df[df['empty']==0].sample(frac=1.0)['id'].unique()[:row*col]):\n",
    "    idf = df[df['id']==id_]\n",
    "    img = load_img(idf.image_path.iloc[0])\n",
    "    mask = load_msk(idf.mask_path.iloc[0])\n",
    "    plt.subplot(row, col, i+1)\n",
    "    i+=1\n",
    "    show_img(img, mask=mask)\n",
    "    plt.tight_layout()"
   ]
  },
  {
   "cell_type": "code",
   "execution_count": 21,
   "id": "68ae3f71-f9f9-41ed-ada4-ea45f8ededc6",
   "metadata": {
    "execution": {
     "iopub.execute_input": "2022-07-05T13:46:23.134885Z",
     "iopub.status.busy": "2022-07-05T13:46:23.134037Z",
     "iopub.status.idle": "2022-07-05T13:46:23.156693Z",
     "shell.execute_reply": "2022-07-05T13:46:23.155765Z",
     "shell.execute_reply.started": "2022-07-05T13:46:23.134841Z"
    },
    "tags": []
   },
   "outputs": [
    {
     "ename": "NameError",
     "evalue": "name 'mask' is not defined",
     "output_type": "error",
     "traceback": [
      "\u001b[0;31m---------------------------------------------------------------------------\u001b[0m",
      "\u001b[0;31mNameError\u001b[0m                                 Traceback (most recent call last)",
      "Input \u001b[0;32mIn [21]\u001b[0m, in \u001b[0;36m<cell line: 1>\u001b[0;34m()\u001b[0m\n\u001b[0;32m----> 1\u001b[0m np\u001b[38;5;241m.\u001b[39munique(\u001b[43mmask\u001b[49m)\n",
      "\u001b[0;31mNameError\u001b[0m: name 'mask' is not defined"
     ]
    }
   ],
   "source": [
    "np.unique(mask)"
   ]
  },
  {
   "cell_type": "markdown",
   "id": "6aeba177",
   "metadata": {
    "papermill": {
     "duration": 0.033904,
     "end_time": "2022-05-01T22:48:08.545558",
     "exception": false,
     "start_time": "2022-05-01T22:48:08.511654",
     "status": "completed"
    },
    "tags": []
   },
   "source": [
    "# Check 2.5D Data"
   ]
  },
  {
   "cell_type": "code",
   "execution_count": 10,
   "id": "c37a1e2c",
   "metadata": {
    "execution": {
     "iopub.execute_input": "2022-07-01T23:33:11.574315Z",
     "iopub.status.busy": "2022-07-01T23:33:11.573942Z",
     "iopub.status.idle": "2022-07-01T23:33:11.904090Z",
     "shell.execute_reply": "2022-07-01T23:33:11.901785Z",
     "shell.execute_reply.started": "2022-07-01T23:33:11.574278Z"
    },
    "papermill": {
     "duration": 0.589768,
     "end_time": "2022-05-01T22:48:09.168921",
     "exception": false,
     "start_time": "2022-05-01T22:48:08.579153",
     "status": "completed"
    },
    "tags": []
   },
   "outputs": [
    {
     "ename": "AttributeError",
     "evalue": "'tuple' object has no attribute 'astype'",
     "output_type": "error",
     "traceback": [
      "\u001b[0;31m---------------------------------------------------------------------------\u001b[0m",
      "\u001b[0;31mAttributeError\u001b[0m                            Traceback (most recent call last)",
      "Input \u001b[0;32mIn [10]\u001b[0m, in \u001b[0;36m<cell line: 6>\u001b[0;34m()\u001b[0m\n\u001b[1;32m      3\u001b[0m plt\u001b[38;5;241m.\u001b[39mfigure(figsize\u001b[38;5;241m=\u001b[39m(\u001b[38;5;241m20\u001b[39m, \u001b[38;5;241m10\u001b[39m))\n\u001b[1;32m      5\u001b[0m plt\u001b[38;5;241m.\u001b[39msubplot(\u001b[38;5;241m1\u001b[39m, \u001b[38;5;241m2\u001b[39m, \u001b[38;5;241m1\u001b[39m)\n\u001b[0;32m----> 6\u001b[0m img \u001b[38;5;241m=\u001b[39m \u001b[43mload_img\u001b[49m\u001b[43m(\u001b[49m\u001b[43mdf\u001b[49m\u001b[38;5;241;43m.\u001b[39;49m\u001b[43mimage_path\u001b[49m\u001b[43m[\u001b[49m\u001b[43midx\u001b[49m\u001b[43m]\u001b[49m\u001b[43m)\u001b[49m\u001b[38;5;241;43m.\u001b[39;49m\u001b[43mastype\u001b[49m(\u001b[38;5;124m'\u001b[39m\u001b[38;5;124mfloat32\u001b[39m\u001b[38;5;124m'\u001b[39m)\n\u001b[1;32m      7\u001b[0m img\u001b[38;5;241m/\u001b[39m\u001b[38;5;241m=\u001b[39mimg\u001b[38;5;241m.\u001b[39mmax()\n\u001b[1;32m      8\u001b[0m plt\u001b[38;5;241m.\u001b[39mimshow(img)\n",
      "\u001b[0;31mAttributeError\u001b[0m: 'tuple' object has no attribute 'astype'"
     ]
    },
    {
     "data": {
      "image/png": "[encoded data removed]",
      "text/plain": [
       "<Figure size 1440x720 with 1 Axes>"
      ]
     },
     "metadata": {
      "needs_background": "light"
     },
     "output_type": "display_data"
    }
   ],
   "source": [
    "idx = 40\n",
    "\n",
    "plt.figure(figsize=(20, 10))\n",
    "\n",
    "plt.subplot(1, 2, 1)\n",
    "img = load_img(df.image_path[idx]).astype('float32')\n",
    "img/=img.max()\n",
    "plt.imshow(img)\n",
    "plt.axis('off')\n",
    "\n",
    "\n",
    "plt.subplot(1, 2, 2)\n",
    "imgs = load_imgs(df.image_paths[idx]).astype('float32')\n",
    "imgs/=imgs.max(axis=(0,1))\n",
    "plt.imshow(imgs)\n",
    "plt.axis('off')\n",
    "\n",
    "plt.tight_layout()\n",
    "plt.show()"
   ]
  },
  {
   "cell_type": "markdown",
   "id": "5f329c90",
   "metadata": {
    "papermill": {
     "duration": 0.047126,
     "end_time": "2022-05-01T22:48:09.258642",
     "exception": false,
     "start_time": "2022-05-01T22:48:09.211516",
     "status": "completed"
    },
    "tags": []
   },
   "source": [
    "# Write Mask"
   ]
  },
  {
   "cell_type": "code",
   "execution_count": 65,
   "id": "36b3e5bf",
   "metadata": {
    "execution": {
     "iopub.execute_input": "2022-07-09T00:30:37.250398Z",
     "iopub.status.busy": "2022-07-09T00:30:37.249252Z",
     "iopub.status.idle": "2022-07-09T00:30:37.258059Z",
     "shell.execute_reply": "2022-07-09T00:30:37.256774Z",
     "shell.execute_reply.started": "2022-07-09T00:30:37.250350Z"
    },
    "papermill": {
     "duration": 0.054473,
     "end_time": "2022-05-01T22:48:09.359162",
     "exception": false,
     "start_time": "2022-05-01T22:48:09.304689",
     "status": "completed"
    },
    "tags": []
   },
   "outputs": [],
   "source": [
    "def save_mask(id_):\n",
    "    row = df[df['id']==id_].squeeze()\n",
    "    \n",
    "    img_paths = row.image_paths\n",
    "    imgs, start_, end_ = load_imgs(img_paths)\n",
    "    # np.save(f'{IMAGE_DIR}/{id_}.npy', imgs)\n",
    "    \n",
    "    msk_path = row.mask_path\n",
    "    msk = load_msk(msk_path, start_, end_)\n",
    "    # print('mask', msk.shape)\n",
    "    large = msk[:,:,0][...,None]\n",
    "    small = msk[:,:,1][...,None]\n",
    "    stoma = msk[:,:,2][...,None]\n",
    "    # np.save(f'{MASK_DIR}/{id_}.npy', msk)\n",
    "    # print(large.shape)\n",
    "    if large.shape == (384,384,3):\n",
    "        raise\n",
    "    np.save(f'{MASK_DIR}/{id_}.npy', stoma)\n",
    "    return"
   ]
  },
  {
   "cell_type": "code",
   "execution_count": 26,
   "id": "57089a7f-d52c-4d5c-8aa2-cf8bf398f2f6",
   "metadata": {
    "execution": {
     "iopub.execute_input": "2022-07-06T15:06:40.765209Z",
     "iopub.status.busy": "2022-07-06T15:06:40.764864Z",
     "iopub.status.idle": "2022-07-06T15:06:41.382275Z",
     "shell.execute_reply": "2022-07-06T15:06:41.380659Z",
     "shell.execute_reply.started": "2022-07-06T15:06:40.765180Z"
    },
    "tags": []
   },
   "outputs": [],
   "source": [
    "df = pd.read_csv('./train_.csv')"
   ]
  },
  {
   "cell_type": "code",
   "execution_count": 36,
   "id": "f8fc24e1-8027-4741-a262-864eeb41f924",
   "metadata": {
    "execution": {
     "iopub.execute_input": "2022-07-06T15:08:15.114704Z",
     "iopub.status.busy": "2022-07-06T15:08:15.114188Z",
     "iopub.status.idle": "2022-07-06T15:08:15.124492Z",
     "shell.execute_reply": "2022-07-06T15:08:15.123466Z",
     "shell.execute_reply.started": "2022-07-06T15:08:15.114644Z"
    },
    "tags": []
   },
   "outputs": [
    {
     "data": {
      "text/plain": [
       "True"
      ]
     },
     "execution_count": 36,
     "metadata": {},
     "output_type": "execute_result"
    }
   ],
   "source": [
    "np.nan is  df.segmentation[0]"
   ]
  },
  {
   "cell_type": "code",
   "execution_count": 48,
   "id": "99ec54e7-dc17-4d05-a12a-99dcd695dc90",
   "metadata": {
    "execution": {
     "iopub.execute_input": "2022-07-06T15:10:52.771981Z",
     "iopub.status.busy": "2022-07-06T15:10:52.771433Z",
     "iopub.status.idle": "2022-07-06T15:10:52.795532Z",
     "shell.execute_reply": "2022-07-06T15:10:52.794263Z",
     "shell.execute_reply.started": "2022-07-06T15:10:52.771920Z"
    },
    "tags": []
   },
   "outputs": [
    {
     "data": {
      "text/html": [
       "<div>\n",
       "<style scoped>\n",
       "    .dataframe tbody tr th:only-of-type {\n",
       "        vertical-align: middle;\n",
       "    }\n",
       "\n",
       "    .dataframe tbody tr th {\n",
       "        vertical-align: top;\n",
       "    }\n",
       "\n",
       "    .dataframe thead th {\n",
       "        text-align: right;\n",
       "    }\n",
       "</style>\n",
       "<table border=\"1\" class=\"dataframe\">\n",
       "  <thead>\n",
       "    <tr style=\"text-align: right;\">\n",
       "      <th></th>\n",
       "      <th>id</th>\n",
       "      <th>class</th>\n",
       "      <th>segmentation</th>\n",
       "      <th>case</th>\n",
       "      <th>day</th>\n",
       "      <th>slice</th>\n",
       "      <th>image_path</th>\n",
       "      <th>height</th>\n",
       "      <th>width</th>\n",
       "      <th>mask_path</th>\n",
       "    </tr>\n",
       "  </thead>\n",
       "  <tbody>\n",
       "    <tr>\n",
       "      <th>0</th>\n",
       "      <td>case123_day20_slice_0001</td>\n",
       "      <td>large_bowel</td>\n",
       "      <td>NaN</td>\n",
       "      <td>123</td>\n",
       "      <td>20</td>\n",
       "      <td>1</td>\n",
       "      <td>../data/train/case123/case123_day20/scans/slic...</td>\n",
       "      <td>266</td>\n",
       "      <td>266</td>\n",
       "      <td>../data/png//train/case123/case123_day20/scans...</td>\n",
       "    </tr>\n",
       "    <tr>\n",
       "      <th>1</th>\n",
       "      <td>case123_day20_slice_0001</td>\n",
       "      <td>small_bowel</td>\n",
       "      <td>NaN</td>\n",
       "      <td>123</td>\n",
       "      <td>20</td>\n",
       "      <td>1</td>\n",
       "      <td>../data/train/case123/case123_day20/scans/slic...</td>\n",
       "      <td>266</td>\n",
       "      <td>266</td>\n",
       "      <td>../data/png//train/case123/case123_day20/scans...</td>\n",
       "    </tr>\n",
       "    <tr>\n",
       "      <th>2</th>\n",
       "      <td>case123_day20_slice_0001</td>\n",
       "      <td>stomach</td>\n",
       "      <td>NaN</td>\n",
       "      <td>123</td>\n",
       "      <td>20</td>\n",
       "      <td>1</td>\n",
       "      <td>../data/train/case123/case123_day20/scans/slic...</td>\n",
       "      <td>266</td>\n",
       "      <td>266</td>\n",
       "      <td>../data/png//train/case123/case123_day20/scans...</td>\n",
       "    </tr>\n",
       "    <tr>\n",
       "      <th>3</th>\n",
       "      <td>case123_day20_slice_0002</td>\n",
       "      <td>large_bowel</td>\n",
       "      <td>NaN</td>\n",
       "      <td>123</td>\n",
       "      <td>20</td>\n",
       "      <td>2</td>\n",
       "      <td>../data/train/case123/case123_day20/scans/slic...</td>\n",
       "      <td>266</td>\n",
       "      <td>266</td>\n",
       "      <td>../data/png//train/case123/case123_day20/scans...</td>\n",
       "    </tr>\n",
       "    <tr>\n",
       "      <th>4</th>\n",
       "      <td>case123_day20_slice_0002</td>\n",
       "      <td>small_bowel</td>\n",
       "      <td>NaN</td>\n",
       "      <td>123</td>\n",
       "      <td>20</td>\n",
       "      <td>2</td>\n",
       "      <td>../data/train/case123/case123_day20/scans/slic...</td>\n",
       "      <td>266</td>\n",
       "      <td>266</td>\n",
       "      <td>../data/png//train/case123/case123_day20/scans...</td>\n",
       "    </tr>\n",
       "  </tbody>\n",
       "</table>\n",
       "</div>"
      ],
      "text/plain": [
       "                         id        class segmentation  case  day  slice  \\\n",
       "0  case123_day20_slice_0001  large_bowel          NaN   123   20      1   \n",
       "1  case123_day20_slice_0001  small_bowel          NaN   123   20      1   \n",
       "2  case123_day20_slice_0001      stomach          NaN   123   20      1   \n",
       "3  case123_day20_slice_0002  large_bowel          NaN   123   20      2   \n",
       "4  case123_day20_slice_0002  small_bowel          NaN   123   20      2   \n",
       "\n",
       "                                          image_path  height  width  \\\n",
       "0  ../data/train/case123/case123_day20/scans/slic...     266    266   \n",
       "1  ../data/train/case123/case123_day20/scans/slic...     266    266   \n",
       "2  ../data/train/case123/case123_day20/scans/slic...     266    266   \n",
       "3  ../data/train/case123/case123_day20/scans/slic...     266    266   \n",
       "4  ../data/train/case123/case123_day20/scans/slic...     266    266   \n",
       "\n",
       "                                           mask_path  \n",
       "0  ../data/png//train/case123/case123_day20/scans...  \n",
       "1  ../data/png//train/case123/case123_day20/scans...  \n",
       "2  ../data/png//train/case123/case123_day20/scans...  \n",
       "3  ../data/png//train/case123/case123_day20/scans...  \n",
       "4  ../data/png//train/case123/case123_day20/scans...  "
      ]
     },
     "execution_count": 48,
     "metadata": {},
     "output_type": "execute_result"
    }
   ],
   "source": [
    "df.head()"
   ]
  },
  {
   "cell_type": "code",
   "execution_count": 42,
   "id": "0921dddd-7c1e-4d60-8697-7e3d6ff5534f",
   "metadata": {
    "execution": {
     "iopub.execute_input": "2022-07-06T15:09:43.047663Z",
     "iopub.status.busy": "2022-07-06T15:09:43.047244Z",
     "iopub.status.idle": "2022-07-06T15:09:43.108246Z",
     "shell.execute_reply": "2022-07-06T15:09:43.107622Z",
     "shell.execute_reply.started": "2022-07-06T15:09:43.047627Z"
    },
    "tags": []
   },
   "outputs": [
    {
     "data": {
      "text/plain": [
       "0         True\n",
       "1         True\n",
       "2         True\n",
       "3         True\n",
       "4         True\n",
       "          ... \n",
       "115483    True\n",
       "115484    True\n",
       "115485    True\n",
       "115486    True\n",
       "115487    True\n",
       "Name: segmentation, Length: 115488, dtype: bool"
      ]
     },
     "execution_count": 42,
     "metadata": {},
     "output_type": "execute_result"
    }
   ],
   "source": [
    "df.segmentation.map(lambda x:x is np.nan)"
   ]
  },
  {
   "cell_type": "code",
   "execution_count": 47,
   "id": "5a1e25aa-e608-446d-84a4-52e2c94908b7",
   "metadata": {
    "execution": {
     "iopub.execute_input": "2022-07-06T15:10:24.586285Z",
     "iopub.status.busy": "2022-07-06T15:10:24.585857Z",
     "iopub.status.idle": "2022-07-06T15:10:24.639526Z",
     "shell.execute_reply": "2022-07-06T15:10:24.638726Z",
     "shell.execute_reply.started": "2022-07-06T15:10:24.586246Z"
    },
    "tags": []
   },
   "outputs": [
    {
     "data": {
      "text/plain": [
       "'28094 3 28358 7 28623 9 28889 9 29155 9 29421 9 29687 9 29953 9 30219 9 30484 10 30750 10 31016 10 31282 10 31548 10 31814 10 32081 9 32347 8 32614 6'"
      ]
     },
     "execution_count": 47,
     "metadata": {},
     "output_type": "execute_result"
    }
   ],
   "source": [
    "df[df.segmentation.map(lambda x:x is not np.nan)].segmentation.iloc[0]"
   ]
  },
  {
   "cell_type": "code",
   "execution_count": 23,
   "id": "ef3a7676-15df-4e76-8000-0c8e2b2dc307",
   "metadata": {
    "execution": {
     "iopub.execute_input": "2022-07-06T14:56:05.789476Z",
     "iopub.status.busy": "2022-07-06T14:56:05.789037Z",
     "iopub.status.idle": "2022-07-06T14:56:05.793957Z",
     "shell.execute_reply": "2022-07-06T14:56:05.792971Z",
     "shell.execute_reply.started": "2022-07-06T14:56:05.789436Z"
    },
    "tags": []
   },
   "outputs": [],
   "source": [
    "# ! rm -rf ../data/images_512_512_resize_1_3_"
   ]
  },
  {
   "cell_type": "code",
   "execution_count": 66,
   "id": "c5b08531",
   "metadata": {
    "execution": {
     "iopub.execute_input": "2022-07-09T00:30:45.653699Z",
     "iopub.status.busy": "2022-07-09T00:30:45.652872Z",
     "iopub.status.idle": "2022-07-09T00:30:46.747541Z",
     "shell.execute_reply": "2022-07-09T00:30:46.746117Z",
     "shell.execute_reply.started": "2022-07-09T00:30:45.653651Z"
    },
    "papermill": {
     "duration": 0.349938,
     "end_time": "2022-05-01T22:48:09.753385",
     "exception": false,
     "start_time": "2022-05-01T22:48:09.403447",
     "status": "completed"
    },
    "tags": []
   },
   "outputs": [],
   "source": [
    "# IMAGE_DIR = f'../data/images_{IMG_SIZE[0]}_{IMG_SIZE[1]}_{CHANGE_MODE}_{stride}_{channels}_middle'\n",
    "MASK_DIR = f'../data/masks_{IMG_SIZE[0]}_{IMG_SIZE[1]}_{CHANGE_MODE}_{stride}_{channels}_stoma'\n",
    "# !mkdir -p $IMAGE_DIR && mkdir -p $MASK_DIR\n",
    "!mkdir -p $MASK_DIR"
   ]
  },
  {
   "cell_type": "code",
   "execution_count": 67,
   "id": "4ab72bd8",
   "metadata": {
    "execution": {
     "iopub.execute_input": "2022-07-09T00:30:46.897084Z",
     "iopub.status.busy": "2022-07-09T00:30:46.896323Z",
     "iopub.status.idle": "2022-07-09T00:41:58.528859Z",
     "shell.execute_reply": "2022-07-09T00:41:58.521829Z",
     "shell.execute_reply.started": "2022-07-09T00:30:46.897024Z"
    },
    "papermill": {
     "duration": 445.108383,
     "end_time": "2022-05-01T22:55:34.907906",
     "exception": false,
     "start_time": "2022-05-01T22:48:09.799523",
     "status": "completed"
    },
    "tags": []
   },
   "outputs": [
    {
     "data": {
      "application/vnd.jupyter.widget-view+json": {
       "model_id": "3cec741547544a08b8ac88211fbf2b88",
       "version_major": 2,
       "version_minor": 0
      },
      "text/plain": [
       "  0%|          | 0/38496 [00:00<?, ?it/s]"
      ]
     },
     "metadata": {},
     "output_type": "display_data"
    }
   ],
   "source": [
    "ids = df['id'].unique()\n",
    "_ = Parallel(n_jobs=-1, backend='threading')(delayed(save_mask)(id_)\\\n",
    "                                             for id_ in tqdm(ids, total=len(ids)))"
   ]
  },
  {
   "cell_type": "markdown",
   "id": "ccc80f44",
   "metadata": {
    "papermill": {
     "duration": 0.04634,
     "end_time": "2022-05-01T22:55:34.990842",
     "exception": false,
     "start_time": "2022-05-01T22:55:34.944502",
     "status": "completed"
    },
    "tags": []
   },
   "source": [
    "# Check Saved Mask"
   ]
  },
  {
   "cell_type": "code",
   "execution_count": 14,
   "id": "7b22d3a8-873c-45ea-80fd-840c8e3983a8",
   "metadata": {
    "execution": {
     "iopub.execute_input": "2022-07-06T14:54:03.362402Z",
     "iopub.status.busy": "2022-07-06T14:54:03.361943Z",
     "iopub.status.idle": "2022-07-06T14:54:03.482130Z",
     "shell.execute_reply": "2022-07-06T14:54:03.481548Z",
     "shell.execute_reply.started": "2022-07-06T14:54:03.362363Z"
    },
    "tags": []
   },
   "outputs": [
    {
     "data": {
      "text/plain": [
       "(1, 384, 3)"
      ]
     },
     "execution_count": 14,
     "metadata": {},
     "output_type": "execute_result"
    }
   ],
   "source": [
    "np.load(glob('../data/masks_384_384_pad_1_3_large/*')[0]).shape"
   ]
  },
  {
   "cell_type": "code",
   "execution_count": 36,
   "id": "7e0c2ada",
   "metadata": {
    "collapsed": true,
    "execution": {
     "iopub.execute_input": "2022-05-13T08:04:45.069954Z",
     "iopub.status.busy": "2022-05-13T08:04:45.069289Z",
     "iopub.status.idle": "2022-05-13T08:04:45.621501Z",
     "shell.execute_reply": "2022-05-13T08:04:45.620841Z",
     "shell.execute_reply.started": "2022-05-13T08:04:45.069885Z"
    },
    "jupyter": {
     "outputs_hidden": true,
     "source_hidden": true
    },
    "papermill": {
     "duration": 0.567965,
     "end_time": "2022-05-01T22:55:35.605011",
     "exception": false,
     "start_time": "2022-05-01T22:55:35.037046",
     "status": "completed"
    },
    "tags": []
   },
   "outputs": [
    {
     "data": {
      "text/plain": [
       "<matplotlib.image.AxesImage at 0x7fcea93505b0>"
      ]
     },
     "execution_count": 36,
     "metadata": {},
     "output_type": "execute_result"
    },
    {
     "data": {
      "image/png": "[encoded data removed]",
      "text/plain": [
       "<Figure size 1080x360 with 3 Axes>"
      ]
     },
     "metadata": {
      "needs_background": "light"
     },
     "output_type": "display_data"
    }
   ],
   "source": [
    "plt.figure(figsize=(15, 5))\n",
    "\n",
    "imgs = np.load(f'{IMAGE_DIR}/case123_day0_slice_0080.npy').astype('float32')\n",
    "imgs/=imgs.max(axis=(0,1))\n",
    "\n",
    "plt.subplot(1, 3, 1)\n",
    "plt.imshow(imgs)\n",
    "\n",
    "msk = np.load(f'{MASK_DIR}/case123_day0_slice_0080.npy').astype('float32')\n",
    "msk/=255.0\n",
    "\n",
    "plt.subplot(1, 3, 2)\n",
    "plt.imshow(msk)\n",
    "\n",
    "\n",
    "plt.subplot(1, 3, 3)\n",
    "plt.imshow(imgs)\n",
    "plt.imshow(msk, alpha=0.5)"
   ]
  },
  {
   "cell_type": "markdown",
   "id": "fd5dabf8",
   "metadata": {
    "papermill": {
     "duration": 0.050845,
     "end_time": "2022-05-01T22:55:35.705852",
     "exception": false,
     "start_time": "2022-05-01T22:55:35.655007",
     "status": "completed"
    },
    "tags": []
   },
   "source": [
    "# Save Metadata"
   ]
  },
  {
   "cell_type": "code",
   "execution_count": 37,
   "id": "9310e478",
   "metadata": {
    "execution": {
     "iopub.execute_input": "2022-05-13T08:04:52.684199Z",
     "iopub.status.busy": "2022-05-13T08:04:52.683446Z",
     "iopub.status.idle": "2022-05-13T08:04:53.914585Z",
     "shell.execute_reply": "2022-05-13T08:04:53.913859Z",
     "shell.execute_reply.started": "2022-05-13T08:04:52.684136Z"
    },
    "papermill": {
     "duration": 2.094223,
     "end_time": "2022-05-01T22:55:37.849619",
     "exception": false,
     "start_time": "2022-05-01T22:55:35.755396",
     "status": "completed"
    },
    "tags": []
   },
   "outputs": [],
   "source": [
    "df.to_csv('train_2.5.csv',index=False)"
   ]
  },
  {
   "cell_type": "code",
   "execution_count": 38,
   "id": "591034db-254a-4a18-9b98-8f8fd8c45cdb",
   "metadata": {
    "execution": {
     "iopub.execute_input": "2022-05-13T08:04:55.408496Z",
     "iopub.status.busy": "2022-05-13T08:04:55.407918Z",
     "iopub.status.idle": "2022-05-13T08:04:55.443734Z",
     "shell.execute_reply": "2022-05-13T08:04:55.442858Z",
     "shell.execute_reply.started": "2022-05-13T08:04:55.408435Z"
    },
    "tags": []
   },
   "outputs": [
    {
     "data": {
      "text/html": [
       "<div>\n",
       "<style scoped>\n",
       "    .dataframe tbody tr th:only-of-type {\n",
       "        vertical-align: middle;\n",
       "    }\n",
       "\n",
       "    .dataframe tbody tr th {\n",
       "        vertical-align: top;\n",
       "    }\n",
       "\n",
       "    .dataframe thead th {\n",
       "        text-align: right;\n",
       "    }\n",
       "</style>\n",
       "<table border=\"1\" class=\"dataframe\">\n",
       "  <thead>\n",
       "    <tr style=\"text-align: right;\">\n",
       "      <th></th>\n",
       "      <th>id</th>\n",
       "      <th>case</th>\n",
       "      <th>day</th>\n",
       "      <th>slice</th>\n",
       "      <th>image_path</th>\n",
       "      <th>height</th>\n",
       "      <th>width</th>\n",
       "      <th>mask_path</th>\n",
       "      <th>segmentation</th>\n",
       "      <th>rle_len</th>\n",
       "      <th>empty</th>\n",
       "      <th>image_path_00</th>\n",
       "      <th>image_path_01</th>\n",
       "      <th>image_path_02</th>\n",
       "      <th>image_paths</th>\n",
       "    </tr>\n",
       "  </thead>\n",
       "  <tbody>\n",
       "    <tr>\n",
       "      <th>0</th>\n",
       "      <td>case123_day20_slice_0001</td>\n",
       "      <td>123</td>\n",
       "      <td>20</td>\n",
       "      <td>1</td>\n",
       "      <td>../data/train/case123/case123_day20/scans/slic...</td>\n",
       "      <td>266</td>\n",
       "      <td>266</td>\n",
       "      <td>../data/np/train/case123/case123_day20/scans/s...</td>\n",
       "      <td>[, , ]</td>\n",
       "      <td>0</td>\n",
       "      <td>True</td>\n",
       "      <td>../data/train/case123/case123_day20/scans/slic...</td>\n",
       "      <td>../data/train/case123/case123_day20/scans/slic...</td>\n",
       "      <td>../data/train/case123/case123_day20/scans/slic...</td>\n",
       "      <td>[../data/train/case123/case123_day20/scans/sli...</td>\n",
       "    </tr>\n",
       "    <tr>\n",
       "      <th>1</th>\n",
       "      <td>case123_day20_slice_0002</td>\n",
       "      <td>123</td>\n",
       "      <td>20</td>\n",
       "      <td>2</td>\n",
       "      <td>../data/train/case123/case123_day20/scans/slic...</td>\n",
       "      <td>266</td>\n",
       "      <td>266</td>\n",
       "      <td>../data/np/train/case123/case123_day20/scans/s...</td>\n",
       "      <td>[, , ]</td>\n",
       "      <td>0</td>\n",
       "      <td>True</td>\n",
       "      <td>../data/train/case123/case123_day20/scans/slic...</td>\n",
       "      <td>../data/train/case123/case123_day20/scans/slic...</td>\n",
       "      <td>../data/train/case123/case123_day20/scans/slic...</td>\n",
       "      <td>[../data/train/case123/case123_day20/scans/sli...</td>\n",
       "    </tr>\n",
       "    <tr>\n",
       "      <th>2</th>\n",
       "      <td>case123_day20_slice_0003</td>\n",
       "      <td>123</td>\n",
       "      <td>20</td>\n",
       "      <td>3</td>\n",
       "      <td>../data/train/case123/case123_day20/scans/slic...</td>\n",
       "      <td>266</td>\n",
       "      <td>266</td>\n",
       "      <td>../data/np/train/case123/case123_day20/scans/s...</td>\n",
       "      <td>[, , ]</td>\n",
       "      <td>0</td>\n",
       "      <td>True</td>\n",
       "      <td>../data/train/case123/case123_day20/scans/slic...</td>\n",
       "      <td>../data/train/case123/case123_day20/scans/slic...</td>\n",
       "      <td>../data/train/case123/case123_day20/scans/slic...</td>\n",
       "      <td>[../data/train/case123/case123_day20/scans/sli...</td>\n",
       "    </tr>\n",
       "    <tr>\n",
       "      <th>3</th>\n",
       "      <td>case123_day20_slice_0004</td>\n",
       "      <td>123</td>\n",
       "      <td>20</td>\n",
       "      <td>4</td>\n",
       "      <td>../data/train/case123/case123_day20/scans/slic...</td>\n",
       "      <td>266</td>\n",
       "      <td>266</td>\n",
       "      <td>../data/np/train/case123/case123_day20/scans/s...</td>\n",
       "      <td>[, , ]</td>\n",
       "      <td>0</td>\n",
       "      <td>True</td>\n",
       "      <td>../data/train/case123/case123_day20/scans/slic...</td>\n",
       "      <td>../data/train/case123/case123_day20/scans/slic...</td>\n",
       "      <td>../data/train/case123/case123_day20/scans/slic...</td>\n",
       "      <td>[../data/train/case123/case123_day20/scans/sli...</td>\n",
       "    </tr>\n",
       "    <tr>\n",
       "      <th>4</th>\n",
       "      <td>case123_day20_slice_0005</td>\n",
       "      <td>123</td>\n",
       "      <td>20</td>\n",
       "      <td>5</td>\n",
       "      <td>../data/train/case123/case123_day20/scans/slic...</td>\n",
       "      <td>266</td>\n",
       "      <td>266</td>\n",
       "      <td>../data/np/train/case123/case123_day20/scans/s...</td>\n",
       "      <td>[, , ]</td>\n",
       "      <td>0</td>\n",
       "      <td>True</td>\n",
       "      <td>../data/train/case123/case123_day20/scans/slic...</td>\n",
       "      <td>../data/train/case123/case123_day20/scans/slic...</td>\n",
       "      <td>../data/train/case123/case123_day20/scans/slic...</td>\n",
       "      <td>[../data/train/case123/case123_day20/scans/sli...</td>\n",
       "    </tr>\n",
       "  </tbody>\n",
       "</table>\n",
       "</div>"
      ],
      "text/plain": [
       "                         id  case  day  slice  \\\n",
       "0  case123_day20_slice_0001   123   20      1   \n",
       "1  case123_day20_slice_0002   123   20      2   \n",
       "2  case123_day20_slice_0003   123   20      3   \n",
       "3  case123_day20_slice_0004   123   20      4   \n",
       "4  case123_day20_slice_0005   123   20      5   \n",
       "\n",
       "                                          image_path  height  width  \\\n",
       "0  ../data/train/case123/case123_day20/scans/slic...     266    266   \n",
       "1  ../data/train/case123/case123_day20/scans/slic...     266    266   \n",
       "2  ../data/train/case123/case123_day20/scans/slic...     266    266   \n",
       "3  ../data/train/case123/case123_day20/scans/slic...     266    266   \n",
       "4  ../data/train/case123/case123_day20/scans/slic...     266    266   \n",
       "\n",
       "                                           mask_path segmentation  rle_len  \\\n",
       "0  ../data/np/train/case123/case123_day20/scans/s...       [, , ]        0   \n",
       "1  ../data/np/train/case123/case123_day20/scans/s...       [, , ]        0   \n",
       "2  ../data/np/train/case123/case123_day20/scans/s...       [, , ]        0   \n",
       "3  ../data/np/train/case123/case123_day20/scans/s...       [, , ]        0   \n",
       "4  ../data/np/train/case123/case123_day20/scans/s...       [, , ]        0   \n",
       "\n",
       "   empty                                      image_path_00  \\\n",
       "0   True  ../data/train/case123/case123_day20/scans/slic...   \n",
       "1   True  ../data/train/case123/case123_day20/scans/slic...   \n",
       "2   True  ../data/train/case123/case123_day20/scans/slic...   \n",
       "3   True  ../data/train/case123/case123_day20/scans/slic...   \n",
       "4   True  ../data/train/case123/case123_day20/scans/slic...   \n",
       "\n",
       "                                       image_path_01  \\\n",
       "0  ../data/train/case123/case123_day20/scans/slic...   \n",
       "1  ../data/train/case123/case123_day20/scans/slic...   \n",
       "2  ../data/train/case123/case123_day20/scans/slic...   \n",
       "3  ../data/train/case123/case123_day20/scans/slic...   \n",
       "4  ../data/train/case123/case123_day20/scans/slic...   \n",
       "\n",
       "                                       image_path_02  \\\n",
       "0  ../data/train/case123/case123_day20/scans/slic...   \n",
       "1  ../data/train/case123/case123_day20/scans/slic...   \n",
       "2  ../data/train/case123/case123_day20/scans/slic...   \n",
       "3  ../data/train/case123/case123_day20/scans/slic...   \n",
       "4  ../data/train/case123/case123_day20/scans/slic...   \n",
       "\n",
       "                                         image_paths  \n",
       "0  [../data/train/case123/case123_day20/scans/sli...  \n",
       "1  [../data/train/case123/case123_day20/scans/sli...  \n",
       "2  [../data/train/case123/case123_day20/scans/sli...  \n",
       "3  [../data/train/case123/case123_day20/scans/sli...  \n",
       "4  [../data/train/case123/case123_day20/scans/sli...  "
      ]
     },
     "execution_count": 38,
     "metadata": {},
     "output_type": "execute_result"
    }
   ],
   "source": [
    "df.head()"
   ]
  },
  {
   "cell_type": "markdown",
   "id": "d9143ee7",
   "metadata": {
    "papermill": {
     "duration": 0.048833,
     "end_time": "2022-05-01T22:55:37.947470",
     "exception": false,
     "start_time": "2022-05-01T22:55:37.898637",
     "status": "completed"
    },
    "tags": []
   },
   "source": [
    "# Compress Files"
   ]
  },
  {
   "cell_type": "code",
   "execution_count": 13,
   "id": "7557195c",
   "metadata": {
    "execution": {
     "iopub.execute_input": "2022-05-01T22:55:38.026408Z",
     "iopub.status.busy": "2022-05-01T22:55:38.025975Z",
     "iopub.status.idle": "2022-05-01T23:21:40.640002Z",
     "shell.execute_reply": "2022-05-01T23:21:40.639147Z"
    },
    "papermill": {
     "duration": 1562.703083,
     "end_time": "2022-05-01T23:21:40.689040",
     "exception": false,
     "start_time": "2022-05-01T22:55:37.985957",
     "status": "completed"
    },
    "tags": []
   },
   "outputs": [
    {
     "data": {
      "text/plain": [
       "'/kaggle/working/images.zip'"
      ]
     },
     "execution_count": 13,
     "metadata": {},
     "output_type": "execute_result"
    }
   ],
   "source": [
    "shutil.make_archive('/kaggle/working/images',\n",
    "                    'zip',\n",
    "                    '/tmp',\n",
    "                    'images')"
   ]
  },
  {
   "cell_type": "code",
   "execution_count": 14,
   "id": "a9083d5b",
   "metadata": {
    "execution": {
     "iopub.execute_input": "2022-05-01T23:21:40.792891Z",
     "iopub.status.busy": "2022-05-01T23:21:40.792670Z",
     "iopub.status.idle": "2022-05-01T23:24:53.466039Z",
     "shell.execute_reply": "2022-05-01T23:24:53.465541Z"
    },
    "papermill": {
     "duration": 192.781043,
     "end_time": "2022-05-01T23:24:53.520398",
     "exception": false,
     "start_time": "2022-05-01T23:21:40.739355",
     "status": "completed"
    },
    "tags": []
   },
   "outputs": [
    {
     "data": {
      "text/plain": [
       "'/kaggle/working/masks.zip'"
      ]
     },
     "execution_count": 14,
     "metadata": {},
     "output_type": "execute_result"
    }
   ],
   "source": [
    "shutil.make_archive('/kaggle/working/masks',\n",
    "                    'zip',\n",
    "                    '/tmp',\n",
    "                    'masks')"
   ]
  },
  {
   "cell_type": "markdown",
   "id": "880c4906-65ea-4194-961d-726ad1ec5d5b",
   "metadata": {},
   "source": [
    "# 3D dataset"
   ]
  },
  {
   "cell_type": "code",
   "execution_count": null,
   "id": "565f004b-0677-4f00-adf1-68c2d1906b28",
   "metadata": {},
   "outputs": [],
   "source": [
    "import numpy as np\n",
    "import pandas as pd\n",
    "pd.options.plotting.backend = \"plotly\"\n",
    "import random\n",
    "from glob import glob\n",
    "import os, shutil\n",
    "from tqdm.notebook import tqdm\n",
    "tqdm.pandas()\n",
    "import time\n",
    "import copy\n",
    "import joblib\n",
    "import gc\n",
    "from IPython import display as ipd\n",
    "from joblib import Parallel, delayed\n",
    "\n",
    "# visualization\n",
    "import cv2\n",
    "import matplotlib.pyplot as plt\n",
    "from matplotlib.patches import Rectangle\n",
    "\n"
   ]
  },
  {
   "cell_type": "code",
   "execution_count": 99,
   "id": "bdcbeae9-a369-48ce-830c-df42eb80a58f",
   "metadata": {
    "execution": {
     "iopub.execute_input": "2022-06-14T13:23:20.493180Z",
     "iopub.status.busy": "2022-06-14T13:23:20.492866Z",
     "iopub.status.idle": "2022-06-14T13:23:20.553161Z",
     "shell.execute_reply": "2022-06-14T13:23:20.532813Z",
     "shell.execute_reply.started": "2022-06-14T13:23:20.493151Z"
    }
   },
   "outputs": [],
   "source": [
    "def load_img(path, size=IMG_SIZE):\n",
    "    img = cv2.imread(path, cv2.IMREAD_UNCHANGED)\n",
    "    shape0 = np.array(img.shape[:2])\n",
    "    resize = np.array(size)\n",
    "    if np.any(shape0 != resize):\n",
    "        if CHANGE_MODE == 'pad':\n",
    "            diff = resize - shape0\n",
    "            pad0 = diff[0]\n",
    "            pad1 = diff[1]\n",
    "            pady = [pad0//2, pad0//2 + pad0%2]\n",
    "            padx = [pad1//2, pad1//2 + pad1%2]\n",
    "            img = np.pad(img, [pady, padx])\n",
    "            img = img.reshape((*resize, ))\n",
    "        elif CHANGE_MODE == 'no':\n",
    "            pass\n",
    "        else:\n",
    "            img = cv2.resize(img, resize, interpolation=INTER)\n",
    "        \n",
    "#     img = np.tile(img[...,None], [1, 1, 3]) # gray to rgb\n",
    "#     img = img.astype('float32') # original is uint16\n",
    "#     mx = np.max(img)\n",
    "#     if mx:\n",
    "#         img/=mx # scale image to [0, 1]\n",
    "    return img\n",
    "\n",
    "def load_msk(path, size=IMG_SIZE):\n",
    "    msk = np.load(path)\n",
    "#     msk = msk.astype('float32')\n",
    "#     msk/=255.0\n",
    "#     msk = cv2.resize(msk, dsize=size, interpolation=cv2.INTER_NEAREST)\n",
    "    shape0 = np.array(msk.shape[:2])\n",
    "    resize = np.array(size)\n",
    "    if np.any(shape0!=resize):\n",
    "        if CHANGE_MODE == 'pad':\n",
    "            diff = resize - shape0\n",
    "            pad0 = diff[0]\n",
    "            pad1 = diff[1]\n",
    "            pady = [pad0//2, pad0//2 + pad0%2]\n",
    "            padx = [pad1//2, pad1//2 + pad1%2]\n",
    "            msk = np.pad(msk, [pady, padx, [0,0]])\n",
    "            msk = msk.reshape((*resize, 3))\n",
    "        elif CHANGE_MODE == 'no':\n",
    "            pass\n",
    "        else:\n",
    "            msk = cv2.resize(msk, size, interpolation=INTER)\n",
    "    return msk\n",
    "\n",
    "def show_img(img, mask=None):\n",
    "    plt.imshow(img, cmap='bone')\n",
    "    \n",
    "    if mask is not None:\n",
    "        # plt.imshow(np.ma.masked_where(mask!=1, mask), alpha=0.5, cmap='autumn')\n",
    "        plt.imshow(mask, alpha=0.5)\n",
    "        handles = [Rectangle((0,0),1,1, color=_c) for _c in [(0.667,0.0,0.0), (0.0,0.667,0.0), (0.0,0.0,0.667)]]\n",
    "        labels = [ \"Large Bowel\", \"Small Bowel\", \"Stomach\"]\n",
    "        plt.legend(handles,labels)\n",
    "    plt.axis('off')\n",
    "    \n",
    "def load_imgs(img_paths, size=IMG_SIZE):\n",
    "    imgs = np.zeros((*size, len(img_paths)), dtype=np.uint16)\n",
    "    for i, img_path in enumerate(img_paths):\n",
    "        img = load_img(img_path, size=size)\n",
    "        imgs[..., i]+=img\n",
    "    return imgs"
   ]
  },
  {
   "cell_type": "code",
   "execution_count": 100,
   "id": "252279c1-a5a3-4cff-9a8d-0ffefb62b68e",
   "metadata": {
    "execution": {
     "iopub.execute_input": "2022-06-14T13:23:40.097495Z",
     "iopub.status.busy": "2022-06-14T13:23:40.096237Z",
     "iopub.status.idle": "2022-06-14T13:23:42.848111Z",
     "shell.execute_reply": "2022-06-14T13:23:42.847313Z",
     "shell.execute_reply.started": "2022-06-14T13:23:40.097426Z"
    }
   },
   "outputs": [
    {
     "name": "stderr",
     "output_type": "stream",
     "text": [
      "/tmp/ipykernel_136329/1205006207.py:4: FutureWarning: The default value of regex will change from True to False in a future version.\n",
      "  df['mask_path'] = df.mask_path.str.replace('/png/','/np').str.replace('.png','.npy')\n"
     ]
    },
    {
     "data": {
      "text/html": [
       "<div>\n",
       "<style scoped>\n",
       "    .dataframe tbody tr th:only-of-type {\n",
       "        vertical-align: middle;\n",
       "    }\n",
       "\n",
       "    .dataframe tbody tr th {\n",
       "        vertical-align: top;\n",
       "    }\n",
       "\n",
       "    .dataframe thead th {\n",
       "        text-align: right;\n",
       "    }\n",
       "</style>\n",
       "<table border=\"1\" class=\"dataframe\">\n",
       "  <thead>\n",
       "    <tr style=\"text-align: right;\">\n",
       "      <th></th>\n",
       "      <th>id</th>\n",
       "      <th>case</th>\n",
       "      <th>day</th>\n",
       "      <th>slice</th>\n",
       "      <th>image_path</th>\n",
       "      <th>height</th>\n",
       "      <th>width</th>\n",
       "      <th>mask_path</th>\n",
       "      <th>segmentation</th>\n",
       "      <th>rle_len</th>\n",
       "      <th>empty</th>\n",
       "    </tr>\n",
       "  </thead>\n",
       "  <tbody>\n",
       "    <tr>\n",
       "      <th>0</th>\n",
       "      <td>case123_day20_slice_0001</td>\n",
       "      <td>123</td>\n",
       "      <td>20</td>\n",
       "      <td>1</td>\n",
       "      <td>../data/train/case123/case123_day20/scans/slic...</td>\n",
       "      <td>266</td>\n",
       "      <td>266</td>\n",
       "      <td>../data/np/train/case123/case123_day20/scans/s...</td>\n",
       "      <td>[, , ]</td>\n",
       "      <td>0</td>\n",
       "      <td>True</td>\n",
       "    </tr>\n",
       "    <tr>\n",
       "      <th>1</th>\n",
       "      <td>case123_day20_slice_0002</td>\n",
       "      <td>123</td>\n",
       "      <td>20</td>\n",
       "      <td>2</td>\n",
       "      <td>../data/train/case123/case123_day20/scans/slic...</td>\n",
       "      <td>266</td>\n",
       "      <td>266</td>\n",
       "      <td>../data/np/train/case123/case123_day20/scans/s...</td>\n",
       "      <td>[, , ]</td>\n",
       "      <td>0</td>\n",
       "      <td>True</td>\n",
       "    </tr>\n",
       "    <tr>\n",
       "      <th>2</th>\n",
       "      <td>case123_day20_slice_0003</td>\n",
       "      <td>123</td>\n",
       "      <td>20</td>\n",
       "      <td>3</td>\n",
       "      <td>../data/train/case123/case123_day20/scans/slic...</td>\n",
       "      <td>266</td>\n",
       "      <td>266</td>\n",
       "      <td>../data/np/train/case123/case123_day20/scans/s...</td>\n",
       "      <td>[, , ]</td>\n",
       "      <td>0</td>\n",
       "      <td>True</td>\n",
       "    </tr>\n",
       "    <tr>\n",
       "      <th>3</th>\n",
       "      <td>case123_day20_slice_0004</td>\n",
       "      <td>123</td>\n",
       "      <td>20</td>\n",
       "      <td>4</td>\n",
       "      <td>../data/train/case123/case123_day20/scans/slic...</td>\n",
       "      <td>266</td>\n",
       "      <td>266</td>\n",
       "      <td>../data/np/train/case123/case123_day20/scans/s...</td>\n",
       "      <td>[, , ]</td>\n",
       "      <td>0</td>\n",
       "      <td>True</td>\n",
       "    </tr>\n",
       "    <tr>\n",
       "      <th>4</th>\n",
       "      <td>case123_day20_slice_0005</td>\n",
       "      <td>123</td>\n",
       "      <td>20</td>\n",
       "      <td>5</td>\n",
       "      <td>../data/train/case123/case123_day20/scans/slic...</td>\n",
       "      <td>266</td>\n",
       "      <td>266</td>\n",
       "      <td>../data/np/train/case123/case123_day20/scans/s...</td>\n",
       "      <td>[, , ]</td>\n",
       "      <td>0</td>\n",
       "      <td>True</td>\n",
       "    </tr>\n",
       "  </tbody>\n",
       "</table>\n",
       "</div>"
      ],
      "text/plain": [
       "                         id  case  day  slice  \\\n",
       "0  case123_day20_slice_0001   123   20      1   \n",
       "1  case123_day20_slice_0002   123   20      2   \n",
       "2  case123_day20_slice_0003   123   20      3   \n",
       "3  case123_day20_slice_0004   123   20      4   \n",
       "4  case123_day20_slice_0005   123   20      5   \n",
       "\n",
       "                                          image_path  height  width  \\\n",
       "0  ../data/train/case123/case123_day20/scans/slic...     266    266   \n",
       "1  ../data/train/case123/case123_day20/scans/slic...     266    266   \n",
       "2  ../data/train/case123/case123_day20/scans/slic...     266    266   \n",
       "3  ../data/train/case123/case123_day20/scans/slic...     266    266   \n",
       "4  ../data/train/case123/case123_day20/scans/slic...     266    266   \n",
       "\n",
       "                                           mask_path segmentation  rle_len  \\\n",
       "0  ../data/np/train/case123/case123_day20/scans/s...       [, , ]        0   \n",
       "1  ../data/np/train/case123/case123_day20/scans/s...       [, , ]        0   \n",
       "2  ../data/np/train/case123/case123_day20/scans/s...       [, , ]        0   \n",
       "3  ../data/np/train/case123/case123_day20/scans/s...       [, , ]        0   \n",
       "4  ../data/np/train/case123/case123_day20/scans/s...       [, , ]        0   \n",
       "\n",
       "   empty  \n",
       "0   True  \n",
       "1   True  \n",
       "2   True  \n",
       "3   True  \n",
       "4   True  "
      ]
     },
     "execution_count": 100,
     "metadata": {},
     "output_type": "execute_result"
    }
   ],
   "source": [
    "df = pd.read_csv('./train_.csv')\n",
    "df['segmentation'] = df.segmentation.fillna('')\n",
    "df['rle_len'] = df.segmentation.map(len) # length of each rle mask\n",
    "df['mask_path'] = df.mask_path.str.replace('/png/','/np').str.replace('.png','.npy')\n",
    "# df['mask_path'] = df.mask_path.str.replace('../data/seg_data/', f'/tmp/')\n",
    "\n",
    "df2 = df.groupby(['id'])['segmentation'].agg(list).to_frame().reset_index() # rle list of each id\n",
    "df2 = df2.merge(df.groupby(['id'])['rle_len'].agg(sum).to_frame().reset_index()) # total length of all rles of each id\n",
    "\n",
    "df = df.drop(columns=['segmentation', 'class', 'rle_len'])\n",
    "df = df.groupby(['id']).head(1).reset_index(drop=True)\n",
    "df = df.merge(df2, on=['id'])\n",
    "df['empty'] = (df.rle_len==0) # empty masks\n",
    "df.head()"
   ]
  },
  {
   "cell_type": "code",
   "execution_count": 101,
   "id": "1462ae5a-a5b3-416c-a0c1-f67dbf4901bd",
   "metadata": {
    "execution": {
     "iopub.execute_input": "2022-06-14T13:24:37.672457Z",
     "iopub.status.busy": "2022-06-14T13:24:37.672062Z",
     "iopub.status.idle": "2022-06-14T13:24:37.701197Z",
     "shell.execute_reply": "2022-06-14T13:24:37.698685Z",
     "shell.execute_reply.started": "2022-06-14T13:24:37.672420Z"
    },
    "tags": []
   },
   "outputs": [
    {
     "data": {
      "text/plain": [
       "'../data/train/case123/case123_day20/scans/slice_0001_266_266_1.50_1.50.png'"
      ]
     },
     "execution_count": 101,
     "metadata": {},
     "output_type": "execute_result"
    }
   ],
   "source": [
    "df.image_path[0]"
   ]
  },
  {
   "cell_type": "code",
   "execution_count": 103,
   "id": "1a92df1f-a71e-4695-a1f0-02dea880d668",
   "metadata": {
    "execution": {
     "iopub.execute_input": "2022-06-14T13:25:36.925046Z",
     "iopub.status.busy": "2022-06-14T13:25:36.924432Z",
     "iopub.status.idle": "2022-06-14T13:25:37.058659Z",
     "shell.execute_reply": "2022-06-14T13:25:37.057802Z",
     "shell.execute_reply.started": "2022-06-14T13:25:36.925001Z"
    },
    "tags": []
   },
   "outputs": [],
   "source": [
    "df['uniq'] = df['case'].astype(str) + '_' + df['day'].astype(str)"
   ]
  },
  {
   "cell_type": "code",
   "execution_count": 111,
   "id": "f27c164b-bf64-4696-9238-be67b38c55f4",
   "metadata": {
    "execution": {
     "iopub.execute_input": "2022-06-14T13:33:39.478582Z",
     "iopub.status.busy": "2022-06-14T13:33:39.478119Z",
     "iopub.status.idle": "2022-06-14T13:33:39.535814Z",
     "shell.execute_reply": "2022-06-14T13:33:39.528797Z",
     "shell.execute_reply.started": "2022-06-14T13:33:39.478533Z"
    },
    "tags": []
   },
   "outputs": [],
   "source": [
    "df_images = df.groupby('uniq')['image_path'].apply(lambda x:list(x))"
   ]
  },
  {
   "cell_type": "code",
   "execution_count": 112,
   "id": "2b742a8a-1640-4dca-a2a7-55b78af65c6a",
   "metadata": {
    "execution": {
     "iopub.execute_input": "2022-06-14T13:33:53.413884Z",
     "iopub.status.busy": "2022-06-14T13:33:53.413261Z",
     "iopub.status.idle": "2022-06-14T13:33:53.454677Z",
     "shell.execute_reply": "2022-06-14T13:33:53.453556Z",
     "shell.execute_reply.started": "2022-06-14T13:33:53.413822Z"
    },
    "tags": []
   },
   "outputs": [],
   "source": [
    "df_masks = df.groupby('uniq')['mask_path'].apply(lambda x:list(x))"
   ]
  },
  {
   "cell_type": "code",
   "execution_count": 116,
   "id": "422ecea7-c5e4-4126-8a97-e280e7cf0228",
   "metadata": {
    "execution": {
     "iopub.execute_input": "2022-06-14T13:36:30.954778Z",
     "iopub.status.busy": "2022-06-14T13:36:30.954335Z",
     "iopub.status.idle": "2022-06-14T13:36:30.966702Z",
     "shell.execute_reply": "2022-06-14T13:36:30.965814Z",
     "shell.execute_reply.started": "2022-06-14T13:36:30.954733Z"
    },
    "tags": []
   },
   "outputs": [],
   "source": [
    "df_tmp = pd.concat((df_images, df_masks), axis=1)"
   ]
  },
  {
   "cell_type": "code",
   "execution_count": 118,
   "id": "d298a704-7cf6-4508-9fb6-e0818129ff74",
   "metadata": {
    "execution": {
     "iopub.execute_input": "2022-06-14T13:38:54.582160Z",
     "iopub.status.busy": "2022-06-14T13:38:54.581595Z",
     "iopub.status.idle": "2022-06-14T13:38:54.627380Z",
     "shell.execute_reply": "2022-06-14T13:38:54.626272Z",
     "shell.execute_reply.started": "2022-06-14T13:38:54.582115Z"
    },
    "tags": []
   },
   "outputs": [
    {
     "name": "stdout",
     "output_type": "stream",
     "text": [
      "image_path    [../data/train/case101/case101_day20/scans/sli...\n",
      "mask_path     [../data/np/train/case101/case101_day20/scans/...\n",
      "Name: 101_20, dtype: object\n"
     ]
    },
    {
     "ename": "IndexError",
     "evalue": "index 0 is out of bounds for axis 0 with size 0",
     "output_type": "error",
     "traceback": [
      "\u001b[0;31m---------------------------------------------------------------------------\u001b[0m",
      "\u001b[0;31mIndexError\u001b[0m                                Traceback (most recent call last)",
      "Input \u001b[0;32mIn [118]\u001b[0m, in \u001b[0;36m<cell line: 1>\u001b[0;34m()\u001b[0m\n\u001b[1;32m      3\u001b[0m image_3d \u001b[38;5;241m=\u001b[39m np\u001b[38;5;241m.\u001b[39marray([])\n\u001b[1;32m      4\u001b[0m \u001b[38;5;28;01mfor\u001b[39;00m idx, j \u001b[38;5;129;01min\u001b[39;00m \u001b[38;5;28menumerate\u001b[39m(i[\u001b[38;5;241m1\u001b[39m]\u001b[38;5;241m.\u001b[39mimage_path):\n\u001b[0;32m----> 5\u001b[0m     image_3d[\u001b[38;5;241m.\u001b[39m\u001b[38;5;241m.\u001b[39m\u001b[38;5;241m.\u001b[39m, idx] \u001b[38;5;241m+\u001b[39m\u001b[38;5;241m=\u001b[39m np\u001b[38;5;241m.\u001b[39mload(j)\n\u001b[1;32m      6\u001b[0m \u001b[38;5;28mprint\u001b[39m(image_3d)\n\u001b[1;32m      7\u001b[0m \u001b[38;5;28;01mbreak\u001b[39;00m\n",
      "\u001b[0;31mIndexError\u001b[0m: index 0 is out of bounds for axis 0 with size 0"
     ]
    }
   ],
   "source": [
    "for i in df_tmp.iterrows():\n",
    "    print(i[1])\n",
    "    image_3d = np.zeros((*img_size, len() )\n",
    "    for idx, j in enumerate(i[1].image_path):\n",
    "        image_3d[..., idx] += np.load(j)\n",
    "    print(image_3d)\n",
    "    break"
   ]
  },
  {
   "cell_type": "markdown",
   "id": "d45b7ffc-5755-424a-bc13-018f7b880840",
   "metadata": {},
   "source": [
    "# 배경제거"
   ]
  },
  {
   "cell_type": "code",
   "execution_count": 15,
   "id": "ebeb7285-7253-423c-a420-84b2997a327c",
   "metadata": {
    "execution": {
     "iopub.execute_input": "2022-06-30T14:47:07.489825Z",
     "iopub.status.busy": "2022-06-30T14:47:07.489435Z",
     "iopub.status.idle": "2022-06-30T14:47:07.900699Z",
     "shell.execute_reply": "2022-06-30T14:47:07.899471Z",
     "shell.execute_reply.started": "2022-06-30T14:47:07.489785Z"
    },
    "tags": []
   },
   "outputs": [
    {
     "data": {
      "image/png": "[encoded data removed]",
      "text/plain": [
       "<Figure size 432x288 with 1 Axes>"
      ]
     },
     "metadata": {
      "needs_background": "light"
     },
     "output_type": "display_data"
    }
   ],
   "source": [
    "for i in sorted(glob('/VOLUME/jckim/data/images_512_512_resize_1_3_near_middle/*')):\n",
    "    img = np.load(i)\n",
    "    plt.imshow(img)\n",
    "    break"
   ]
  }
 ],
 "metadata": {
  "kernelspec": {
   "display_name": "Python 3 (ipykernel)",
   "language": "python",
   "name": "python3"
  },
  "language_info": {
   "codemirror_mode": {
    "name": "ipython",
    "version": 3
   },
   "file_extension": ".py",
   "mimetype": "text/x-python",
   "name": "python",
   "nbconvert_exporter": "python",
   "pygments_lexer": "ipython3",
   "version": "3.9.12"
  },
  "papermill": {
   "default_parameters": {},
   "duration": 2224.010275,
   "end_time": "2022-05-01T23:24:56.732467",
   "environment_variables": {},
   "exception": null,
   "input_path": "__notebook__.ipynb",
   "output_path": "__notebook__.ipynb",
   "parameters": {},
   "start_time": "2022-05-01T22:47:52.722192",
   "version": "2.3.4"
  },
  "widgets": {
   "application/vnd.jupyter.widget-state+json": {
    "state": {
     "0558a5750a0547c18e94fd9518e1beb8": {
      "model_module": "@jupyter-widgets/base",
      "model_module_version": "1.2.0",
      "model_name": "LayoutModel",
      "state": {
       "_model_module": "@jupyter-widgets/base",
       "_model_module_version": "1.2.0",
       "_model_name": "LayoutModel",
       "_view_count": null,
       "_view_module": "@jupyter-widgets/base",
       "_view_module_version": "1.2.0",
       "_view_name": "LayoutView",
       "align_content": null,
       "align_items": null,
       "align_self": null,
       "border": null,
       "bottom": null,
       "display": null,
       "flex": null,
       "flex_flow": null,
       "grid_area": null,
       "grid_auto_columns": null,
       "grid_auto_flow": null,
       "grid_auto_rows": null,
       "grid_column": null,
       "grid_gap": null,
       "grid_row": null,
       "grid_template_areas": null,
       "grid_template_columns": null,
       "grid_template_rows": null,
       "height": null,
       "justify_content": null,
       "justify_items": null,
       "left": null,
       "margin": null,
       "max_height": null,
       "max_width": null,
       "min_height": null,
       "min_width": null,
       "object_fit": null,
       "object_position": null,
       "order": null,
       "overflow": null,
       "overflow_x": null,
       "overflow_y": null,
       "padding": null,
       "right": null,
       "top": null,
       "visibility": null,
       "width": null
      }
     },
     "0b8a309623e241169e0c6f73c2c3038e": {
      "model_module": "@jupyter-widgets/controls",
      "model_module_version": "1.5.0",
      "model_name": "HBoxModel",
      "state": {
       "_dom_classes": [],
       "_model_module": "@jupyter-widgets/controls",
       "_model_module_version": "1.5.0",
       "_model_name": "HBoxModel",
       "_view_count": null,
       "_view_module": "@jupyter-widgets/controls",
       "_view_module_version": "1.5.0",
       "_view_name": "HBoxView",
       "box_style": "",
       "children": [
        "IPY_MODEL_d90c14119f69464d9f9e853badcc935a",
        "IPY_MODEL_1fb5f523253b40149a92297dee804fd6",
        "IPY_MODEL_afcd6828b5c446ce8da8630b0fdb5ce2"
       ],
       "layout": "IPY_MODEL_0558a5750a0547c18e94fd9518e1beb8"
      }
     },
     "160a196a10c44d11913ef56681c9bb57": {
      "model_module": "@jupyter-widgets/base",
      "model_module_version": "1.2.0",
      "model_name": "LayoutModel",
      "state": {
       "_model_module": "@jupyter-widgets/base",
       "_model_module_version": "1.2.0",
       "_model_name": "LayoutModel",
       "_view_count": null,
       "_view_module": "@jupyter-widgets/base",
       "_view_module_version": "1.2.0",
       "_view_name": "LayoutView",
       "align_content": null,
       "align_items": null,
       "align_self": null,
       "border": null,
       "bottom": null,
       "display": null,
       "flex": null,
       "flex_flow": null,
       "grid_area": null,
       "grid_auto_columns": null,
       "grid_auto_flow": null,
       "grid_auto_rows": null,
       "grid_column": null,
       "grid_gap": null,
       "grid_row": null,
       "grid_template_areas": null,
       "grid_template_columns": null,
       "grid_template_rows": null,
       "height": null,
       "justify_content": null,
       "justify_items": null,
       "left": null,
       "margin": null,
       "max_height": null,
       "max_width": null,
       "min_height": null,
       "min_width": null,
       "object_fit": null,
       "object_position": null,
       "order": null,
       "overflow": null,
       "overflow_x": null,
       "overflow_y": null,
       "padding": null,
       "right": null,
       "top": null,
       "visibility": null,
       "width": null
      }
     },
     "1fb5f523253b40149a92297dee804fd6": {
      "model_module": "@jupyter-widgets/controls",
      "model_module_version": "1.5.0",
      "model_name": "FloatProgressModel",
      "state": {
       "_dom_classes": [],
       "_model_module": "@jupyter-widgets/controls",
       "_model_module_version": "1.5.0",
       "_model_name": "FloatProgressModel",
       "_view_count": null,
       "_view_module": "@jupyter-widgets/controls",
       "_view_module_version": "1.5.0",
       "_view_name": "ProgressView",
       "bar_style": "success",
       "description": "",
       "description_tooltip": null,
       "layout": "IPY_MODEL_33853eed55414942904fff826763e38a",
       "max": 38496,
       "min": 0,
       "orientation": "horizontal",
       "style": "IPY_MODEL_bb6fe9c7585642859f3d46138077154a",
       "value": 38496
      }
     },
     "33853eed55414942904fff826763e38a": {
      "model_module": "@jupyter-widgets/base",
      "model_module_version": "1.2.0",
      "model_name": "LayoutModel",
      "state": {
       "_model_module": "@jupyter-widgets/base",
       "_model_module_version": "1.2.0",
       "_model_name": "LayoutModel",
       "_view_count": null,
       "_view_module": "@jupyter-widgets/base",
       "_view_module_version": "1.2.0",
       "_view_name": "LayoutView",
       "align_content": null,
       "align_items": null,
       "align_self": null,
       "border": null,
       "bottom": null,
       "display": null,
       "flex": null,
       "flex_flow": null,
       "grid_area": null,
       "grid_auto_columns": null,
       "grid_auto_flow": null,
       "grid_auto_rows": null,
       "grid_column": null,
       "grid_gap": null,
       "grid_row": null,
       "grid_template_areas": null,
       "grid_template_columns": null,
       "grid_template_rows": null,
       "height": null,
       "justify_content": null,
       "justify_items": null,
       "left": null,
       "margin": null,
       "max_height": null,
       "max_width": null,
       "min_height": null,
       "min_width": null,
       "object_fit": null,
       "object_position": null,
       "order": null,
       "overflow": null,
       "overflow_x": null,
       "overflow_y": null,
       "padding": null,
       "right": null,
       "top": null,
       "visibility": null,
       "width": null
      }
     },
     "58e367c349ad4ece8b7ecebeea36c1c3": {
      "model_module": "@jupyter-widgets/controls",
      "model_module_version": "1.5.0",
      "model_name": "DescriptionStyleModel",
      "state": {
       "_model_module": "@jupyter-widgets/controls",
       "_model_module_version": "1.5.0",
       "_model_name": "DescriptionStyleModel",
       "_view_count": null,
       "_view_module": "@jupyter-widgets/base",
       "_view_module_version": "1.2.0",
       "_view_name": "StyleView",
       "description_width": ""
      }
     },
     "97ef502a52904269b7ae06ed89a145c0": {
      "model_module": "@jupyter-widgets/controls",
      "model_module_version": "1.5.0",
      "model_name": "DescriptionStyleModel",
      "state": {
       "_model_module": "@jupyter-widgets/controls",
       "_model_module_version": "1.5.0",
       "_model_name": "DescriptionStyleModel",
       "_view_count": null,
       "_view_module": "@jupyter-widgets/base",
       "_view_module_version": "1.2.0",
       "_view_name": "StyleView",
       "description_width": ""
      }
     },
     "afcd6828b5c446ce8da8630b0fdb5ce2": {
      "model_module": "@jupyter-widgets/controls",
      "model_module_version": "1.5.0",
      "model_name": "HTMLModel",
      "state": {
       "_dom_classes": [],
       "_model_module": "@jupyter-widgets/controls",
       "_model_module_version": "1.5.0",
       "_model_name": "HTMLModel",
       "_view_count": null,
       "_view_module": "@jupyter-widgets/controls",
       "_view_module_version": "1.5.0",
       "_view_name": "HTMLView",
       "description": "",
       "description_tooltip": null,
       "layout": "IPY_MODEL_160a196a10c44d11913ef56681c9bb57",
       "placeholder": "​",
       "style": "IPY_MODEL_97ef502a52904269b7ae06ed89a145c0",
       "value": " 38496/38496 [07:24&lt;00:00, 92.31it/s]"
      }
     },
     "bb6fe9c7585642859f3d46138077154a": {
      "model_module": "@jupyter-widgets/controls",
      "model_module_version": "1.5.0",
      "model_name": "ProgressStyleModel",
      "state": {
       "_model_module": "@jupyter-widgets/controls",
       "_model_module_version": "1.5.0",
       "_model_name": "ProgressStyleModel",
       "_view_count": null,
       "_view_module": "@jupyter-widgets/base",
       "_view_module_version": "1.2.0",
       "_view_name": "StyleView",
       "bar_color": null,
       "description_width": ""
      }
     },
     "d90c14119f69464d9f9e853badcc935a": {
      "model_module": "@jupyter-widgets/controls",
      "model_module_version": "1.5.0",
      "model_name": "HTMLModel",
      "state": {
       "_dom_classes": [],
       "_model_module": "@jupyter-widgets/controls",
       "_model_module_version": "1.5.0",
       "_model_name": "HTMLModel",
       "_view_count": null,
       "_view_module": "@jupyter-widgets/controls",
       "_view_module_version": "1.5.0",
       "_view_name": "HTMLView",
       "description": "",
       "description_tooltip": null,
       "layout": "IPY_MODEL_e94d24d4f2f44a47b50db99f825f4d2d",
       "placeholder": "​",
       "style": "IPY_MODEL_58e367c349ad4ece8b7ecebeea36c1c3",
       "value": "100%"
      }
     },
     "e94d24d4f2f44a47b50db99f825f4d2d": {
      "model_module": "@jupyter-widgets/base",
      "model_module_version": "1.2.0",
      "model_name": "LayoutModel",
      "state": {
       "_model_module": "@jupyter-widgets/base",
       "_model_module_version": "1.2.0",
       "_model_name": "LayoutModel",
       "_view_count": null,
       "_view_module": "@jupyter-widgets/base",
       "_view_module_version": "1.2.0",
       "_view_name": "LayoutView",
       "align_content": null,
       "align_items": null,
       "align_self": null,
       "border": null,
       "bottom": null,
       "display": null,
       "flex": null,
       "flex_flow": null,
       "grid_area": null,
       "grid_auto_columns": null,
       "grid_auto_flow": null,
       "grid_auto_rows": null,
       "grid_column": null,
       "grid_gap": null,
       "grid_row": null,
       "grid_template_areas": null,
       "grid_template_columns": null,
       "grid_template_rows": null,
       "height": null,
       "justify_content": null,
       "justify_items": null,
       "left": null,
       "margin": null,
       "max_height": null,
       "max_width": null,
       "min_height": null,
       "min_width": null,
       "object_fit": null,
       "object_position": null,
       "order": null,
       "overflow": null,
       "overflow_x": null,
       "overflow_y": null,
       "padding": null,
       "right": null,
       "top": null,
       "visibility": null,
       "width": null
      }
     }
    },
    "version_major": 2,
    "version_minor": 0
   }
  }
 },
 "nbformat": 4,
 "nbformat_minor": 5
}
